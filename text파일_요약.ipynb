{
 "cells": [
  {
   "cell_type": "code",
   "execution_count": 1,
   "id": "d147c304",
   "metadata": {},
   "outputs": [
    {
     "name": "stderr",
     "output_type": "stream",
     "text": [
      "<>:29: SyntaxWarning: \"is not\" with a literal. Did you mean \"!=\"?\n",
      "<>:29: SyntaxWarning: \"is not\" with a literal. Did you mean \"!=\"?\n",
      "/var/folders/ls/xl42zdxs2992bdl9ypqdvtn80000gn/T/ipykernel_59762/3153922296.py:29: SyntaxWarning: \"is not\" with a literal. Did you mean \"!=\"?\n",
      "  if sentence is not '':\n"
     ]
    }
   ],
   "source": [
    "def summary(user_text):\n",
    "    yt = YouTube(user_text)\n",
    "    caption = yt.captions.get_by_language_code('ko.7XP2tGORuV4')\n",
    "    if caption == None:\n",
    "        caption = yt.captions.all()[0]\n",
    "    text = caption.xml_captions\n",
    "    불용어 = ['<[^가-힣]+>', '&[^가-힣]+;', '(박수 소리)', '\\n', '( )', ':' , '(앵커)', '(기자)']\n",
    "    for i in 불용어:\n",
    "        text = re.sub(i,' ', text)\n",
    "        \n",
    "    kkma = Kkma()\n",
    "\n",
    "    # text입력받아 kkma.sentences()를 이용해 문장단위로 나는 뒤 sentences로 리턴\n",
    "    def text2sentences(text):\n",
    "        sentences= kkma.sentences(text)  # text일 때 문장별로 리스트 만듦\n",
    "        for idx in range(0, len(sentences)): #길이에 따라 문장 합침\n",
    "            if len(sentences[idx]) <= 10:\n",
    "                sentences[idx-1] += (' ' + sentences[idx])\n",
    "                sentences[idx] = ''\n",
    "        return sentences\n",
    "    sentences = text2sentences(text)\n",
    "    twitter = Twitter()\n",
    "\n",
    "    #불용어제거\n",
    "    stopwords = ['( )','안녕하세요', '아', '으', '네' ,'코']\n",
    "    def get_nouns(sentences):\n",
    "        nouns = []\n",
    "        for sentence in sentences:\n",
    "            if sentence is not '':\n",
    "                nouns.append(' '.join([noun for noun in twitter.nouns(str(sentence))\n",
    "                                    if noun not in stopwords and len(noun) > 1]))\n",
    "        return nouns\n",
    "    nouns = get_nouns(sentences)\n",
    "    tfidf = TfidfVectorizer()\n",
    "    cnt_vec = CountVectorizer()\n",
    "    graph_sentence = []\n",
    "    def build_sent_graph(sentence):\n",
    "        tfidf_mat = tfidf.fit_transform(sentence).toarray()\n",
    "        graph_sentence = np.dot(tfidf_mat, tfidf_mat.T)\n",
    "        return graph_sentence\n",
    "\n",
    "    sent_graph = build_sent_graph(nouns)\n",
    "    def build_words_graph(sentence):\n",
    "        cnt_vec_mat = normalize(cnt_vec.fit_transform(sentence).toarray().astype(float), axis=0)\n",
    "        vocab = cnt_vec.vocabulary_\n",
    "        return np.dot(cnt_vec_mat.T, cnt_vec_mat), {vocab[word] : word for word in vocab}\n",
    "    words_graph, idx2word = build_words_graph(nouns)\n",
    "    def get_ranks(graph, d=0.85):\n",
    "        A = graph\n",
    "        matrix_size = A.shape[0]\n",
    "        for id in range(matrix_size):\n",
    "            A[id, id] = 0\n",
    "            link_sum = np.sum(A[:,id])\n",
    "            if link_sum != 0:\n",
    "                A[:, id] /= link_sum\n",
    "            A[:, id] *= -d\n",
    "            A[id, id] = 1\n",
    "        \n",
    "        B = (1-d) * np.ones((matrix_size, 1))\n",
    "        ranks = np.linalg.solve(A, B)\n",
    "        return {idx: r[0] for idx, r in enumerate(ranks)}\n",
    "    sent_rank_idx = get_ranks(sent_graph)\n",
    "    sorted_sent_rank_idx = sorted(sent_rank_idx, key=lambda k: sent_rank_idx[k], reverse=True)\n",
    "    word_rank_idx = get_ranks(words_graph)\n",
    "    sorted_word_rank_idx = sorted(word_rank_idx, key=lambda k: word_rank_idx[k], reverse=True)\n",
    "    \n",
    "    summarize = []\n",
    "    index = []\n",
    "    for idx in sorted_sent_rank_idx[:5]:\n",
    "        index.append(idx)\n",
    "        \n",
    "    index.append(idx)\n",
    "    \n",
    "    for idx in index:\n",
    "        summarize.append(sentences[idx])\n",
    "        \n",
    "    for text in summarize[:]:\n",
    "        llist.append(text)\n",
    "    \n",
    "    m = list(set(llist))\n",
    "    \n",
    "    keywords = []\n",
    "    index = []\n",
    "    for idx in sorted_word_rank_idx[:15]:\n",
    "        index.append(idx)\n",
    "        \n",
    "    for idx in index:\n",
    "        keywords.append(idx2word[idx])\n",
    "        \n",
    "    keywords = [each_word for each_word in keywords\n",
    "                if each_word not in stop_words]\n",
    "        \n",
    "    keyword = keywords[:5]\n",
    "    return m, keyword"
   ]
  },
  {
   "cell_type": "code",
   "execution_count": 1,
   "id": "f4d57fb9",
   "metadata": {
    "scrolled": false
   },
   "outputs": [
    {
     "data": {
      "text/plain": [
       "['한국은행은 오늘 금융통화위원회를 열고 이번 달 기준금리를 결정합니다. 현재 1.25%인 기준금리를 0.25%포인트 올릴 것이라는 전망과 동결할 것이라는 전망이 엇갈리고 있습니다. 최근 4%대의 가파른 물가 상승률과 미국 연방준비제도의 예상보다 빠른 긴축 가능성 때문에 인상할 것이라는 전망이 나옵니다. 다만 한국은행 총재가 공석인 데다 경기 침체나 이자 부담이 늘어날 우려에 동결 분위기도 감지됩니다 ']"
      ]
     },
     "execution_count": 1,
     "metadata": {},
     "output_type": "execute_result"
    }
   ],
   "source": [
    "with open('C:/Users/82102/Desktop/4월 프로젝트/total_texts.txt', 'r', encoding='UTF8') as file: \n",
    "    a = file.readlines()\n",
    "a"
   ]
  },
  {
   "cell_type": "code",
   "execution_count": 108,
   "id": "e52de9af",
   "metadata": {},
   "outputs": [],
   "source": [
    "a = ' 투자의 귀재 워런 버핏의 투자회사 버크셔 해서웨이가 최근 에너지주 중심으로 주식을 대거 매입하고 있다고 미 월스트리트저널(WSJ)이 16일(현지시간) 보도했다. 버크셔 해서웨이는 이날 미 증권거래위원회(SEC) 공시를 통해 지난주 옥시덴털 패트롤리엄 주식 90만1768주를 사들였다고 밝혔다. 지난 2월 말부터 옥시덴털 주식을 매입하기 시작해 현재는 10대 보유 종목에 들어갈 정도로 보유 지분을 늘렸다. 옥시덴털 페트롤리엄은 이날 뉴욕증권거래소에서 5.68%(3.64달러) 상승한 67.72달러에 거래를 마쳤다. 지난주 마지막 거래일인 지난 14일 8.21%의 상승률을 기록했던 주가가 이번 주 첫 거래일인 이날까지 강세를 보이고 있는 모습니다. 시장에서는 옥시덴털 페트롤리엄을 추가로 사들인 버핏의 선택이 매수세를 이끈 것으로 평가하고 있다. 이와 함께 버크셔 해서웨이는 지난 몇 달 동안 석유업체인 셰브런과 마이크로소프트(MS)가 인수를 발표한 대형 게임업체 액티비전블리자드, PC·프린터 제조사 HP, 씨티그룹과 앨리 파이낸셜의 주식을 사들였으며, 애플 지분도 계속 늘려왔다. 이에 반해 대형 은행 웰스파고의 지분은 대부분 정리한 것으로 알려졌다. 평소 버핏이 투자자들에게 강조한 \"남들이 두려워할 때 욕심을 내라\"고 한 말을 실행하고 있다는 분석이다. 버핏이 투자를 늘린 에너지주는 올해 스탠더드앤드푸어스(S&P)500 지수 업종 가운데 가장 좋은 주가 흐름을 보이고 있다. 올해 들어 S&P500 지수는 16% 하락했으나 옥시덴털과 셰브런 주가는 각각 134%와 47% 치솟았다. 아리엘 인베스트먼츠의 루팔 반살리는 버핏의 셰브런과 옥시덴털 투자는 원자재 가격이 당분간 고공행진할 것으로 봤기 때문일 것이라면서 인플레이션 위험 회피의 의미도 있어 보인다고 평가했다. 한편 버핏은 지난 2월 버크셔 해서웨이 주주들에게 보낸 서한에서 3월 말 기준 현금보유액이 1063억 달러(약 135조8195억원)로 지난해 말의 1467억 달러(약 187조 4385억원)에 비해 감소했다고 밝힌 바 있다. '"
   ]
  },
  {
   "cell_type": "code",
   "execution_count": 109,
   "id": "dd8dbeec",
   "metadata": {
    "scrolled": true
   },
   "outputs": [
    {
     "data": {
      "text/plain": [
       "' 투자의 귀재 워런 버핏의 투자회사 버크셔 해서웨이가 최근 에너지주 중심으로 주식을 대거 매입하고 있다고 미 월스트리트저널(WSJ)이 16일(현지시간) 보도했다. 버크셔 해서웨이는 이날 미 증권거래위원회(SEC) 공시를 통해 지난주 옥시덴털 패트롤리엄 주식 90만1768주를 사들였다고 밝혔다. 지난 2월 말부터 옥시덴털 주식을 매입하기 시작해 현재는 10대 보유 종목에 들어갈 정도로 보유 지분을 늘렸다. 옥시덴털 페트롤리엄은 이날 뉴욕증권거래소에서 5.68%(3.64달러) 상승한 67.72달러에 거래를 마쳤다. 지난주 마지막 거래일인 지난 14일 8.21%의 상승률을 기록했던 주가가 이번 주 첫 거래일인 이날까지 강세를 보이고 있는 모습니다. 시장에서는 옥시덴털 페트롤리엄을 추가로 사들인 버핏의 선택이 매수세를 이끈 것으로 평가하고 있다. 이와 함께 버크셔 해서웨이는 지난 몇 달 동안 석유업체인 셰브런과 마이크로소프트(MS)가 인수를 발표한 대형 게임업체 액티비전블리자드, PC·프린터 제조사 HP, 씨티그룹과 앨리 파이낸셜의 주식을 사들였으며, 애플 지분도 계속 늘려왔다. 이에 반해 대형 은행 웰스파고의 지분은 대부분 정리한 것으로 알려졌다. 평소 버핏이 투자자들에게 강조한 \"남들이 두려워할 때 욕심을 내라\"고 한 말을 실행하고 있다는 분석이다. 버핏이 투자를 늘린 에너지주는 올해 스탠더드앤드푸어스(S&P)500 지수 업종 가운데 가장 좋은 주가 흐름을 보이고 있다. 올해 들어 S&P500 지수는 16% 하락했으나 옥시덴털과 셰브런 주가는 각각 134%와 47% 치솟았다. 아리엘 인베스트먼츠의 루팔 반살리는 버핏의 셰브런과 옥시덴털 투자는 원자재 가격이 당분간 고공행진할 것으로 봤기 때문일 것이라면서 인플레이션 위험 회피의 의미도 있어 보인다고 평가했다. 한편 버핏은 지난 2월 버크셔 해서웨이 주주들에게 보낸 서한에서 3월 말 기준 현금보유액이 1063억 달러(약 135조8195억원)로 지난해 말의 1467억 달러(약 187조 4385억원)에 비해 감소했다고 밝힌 바 있다. '"
      ]
     },
     "execution_count": 109,
     "metadata": {},
     "output_type": "execute_result"
    }
   ],
   "source": [
    "b = a.replace('니다', '니다. ')\n",
    "b = b.replace('요 ', ' 요. ')\n",
    "b = b.replace('. .', '.')\n",
    "b = b.replace('-(앵커)', '')\n",
    "b = b.replace('-(기자)', '')\n",
    "b"
   ]
  },
  {
   "cell_type": "code",
   "execution_count": 110,
   "id": "8573b6d3",
   "metadata": {},
   "outputs": [
    {
     "data": {
      "text/plain": [
       "[' 투자의 귀재 워런 버핏의 투자회사 버크셔 해서웨이가 최근 에너지주 중심으로 주식을 대거 매입하고 있다고 미 월스트리트저널(WSJ)이 16일(현지시간) 보도했다',\n",
       " ' 버크셔 해서웨이는 이날 미 증권거래위원회(SEC) 공시를 통해 지난주 옥시덴털 패트롤리엄 주식 90만1768주를 사들였다고 밝혔다',\n",
       " ' 지난 2월 말부터 옥시덴털 주식을 매입하기 시작해 현재는 10대 보유 종목에 들어갈 정도로 보유 지분을 늘렸다',\n",
       " ' 옥시덴털 페트롤리엄은 이날 뉴욕증권거래소에서 5',\n",
       " '68%(3',\n",
       " '64달러) 상승한 67',\n",
       " '72달러에 거래를 마쳤다',\n",
       " ' 지난주 마지막 거래일인 지난 14일 8',\n",
       " '21%의 상승률을 기록했던 주가가 이번 주 첫 거래일인 이날까지 강세를 보이고 있는 모습니다',\n",
       " ' 시장에서는 옥시덴털 페트롤리엄을 추가로 사들인 버핏의 선택이 매수세를 이끈 것으로 평가하고 있다',\n",
       " ' 이와 함께 버크셔 해서웨이는 지난 몇 달 동안 석유업체인 셰브런과 마이크로소프트(MS)가 인수를 발표한 대형 게임업체 액티비전블리자드, PC·프린터 제조사 HP, 씨티그룹과 앨리 파이낸셜의 주식을 사들였으며, 애플 지분도 계속 늘려왔다',\n",
       " ' 이에 반해 대형 은행 웰스파고의 지분은 대부분 정리한 것으로 알려졌다',\n",
       " ' 평소 버핏이 투자자들에게 강조한 \"남들이 두려워할 때 욕심을 내라\"고 한 말을 실행하고 있다는 분석이다',\n",
       " ' 버핏이 투자를 늘린 에너지주는 올해 스탠더드앤드푸어스(S&P)500 지수 업종 가운데 가장 좋은 주가 흐름을 보이고 있다',\n",
       " ' 올해 들어 S&P500 지수는 16% 하락했으나 옥시덴털과 셰브런 주가는 각각 134%와 47% 치솟았다',\n",
       " ' 아리엘 인베스트먼츠의 루팔 반살리는 버핏의 셰브런과 옥시덴털 투자는 원자재 가격이 당분간 고공행진할 것으로 봤기 때문일 것이라면서 인플레이션 위험 회피의 의미도 있어 보인다고 평가했다',\n",
       " ' 한편 버핏은 지난 2월 버크셔 해서웨이 주주들에게 보낸 서한에서 3월 말 기준 현금보유액이 1063억 달러(약 135조8195억원)로 지난해 말의 1467억 달러(약 187조 4385억원)에 비해 감소했다고 밝힌 바 있다',\n",
       " ' ']"
      ]
     },
     "execution_count": 110,
     "metadata": {},
     "output_type": "execute_result"
    }
   ],
   "source": [
    "text_list = b.split('.')\n",
    "text_list"
   ]
  },
  {
   "cell_type": "code",
   "execution_count": 111,
   "id": "e9d897d2",
   "metadata": {},
   "outputs": [
    {
     "data": {
      "text/plain": [
       "' 투자의 귀재 워런 버핏의 투자회사 버크셔 해서웨이가 최근 에너지주 중심으로 주식을 대거 매입하고 있다고 미 월스트리트저널(WSJ)이 16일(현지시간) 보도했다. 버크셔 해서웨이는 이날 미 증권거래위원회(SEC) 공시를 통해 지난주 옥시덴털 패트롤리엄 주식 90만1768주를 사들였다고 밝혔다. 지난 2월 말부터 옥시덴털 주식을 매입하기 시작해 현재는 10대 보유 종목에 들어갈 정도로 보유 지분을 늘렸다. 옥시덴털 페트롤리엄은 이날 뉴욕증권거래소에서 5.68%(3.64달러) 상승한 67.72달러에 거래를 마쳤다. 지난주 마지막 거래일인 지난 14일 8.21%의 상승률을 기록했던 주가가 이번 주 첫 거래일인 이날까지 강세를 보이고 있는 모습니다. 시장에서는 옥시덴털 페트롤리엄을 추가로 사들인 버핏의 선택이 매수세를 이끈 것으로 평가하고 있다. 이와 함께 버크셔 해서웨이는 지난 몇 달 동안 석유업체인 셰브런과 마이크로소프트(MS)가 인수를 발표한 대형 게임업체 액티비전블리자드, PC·프린터 제조사 HP, 씨티그룹과 앨리 파이낸셜의 주식을 사들였으며, 애플 지분도 계속 늘려왔다. 이에 반해 대형 은행 웰스파고의 지분은 대부분 정리한 것으로 알려졌다. 평소 버핏이 투자자들에게 강조한 \"남들이 두려워할 때 욕심을 내라\"고 한 말을 실행하고 있다는 분석이다. 버핏이 투자를 늘린 에너지주는 올해 스탠더드앤드푸어스(S&P)500 지수 업종 가운데 가장 좋은 주가 흐름을 보이고 있다. 올해 들어 S&P500 지수는 16% 하락했으나 옥시덴털과 셰브런 주가는 각각 134%와 47% 치솟았다. 아리엘 인베스트먼츠의 루팔 반살리는 버핏의 셰브런과 옥시덴털 투자는 원자재 가격이 당분간 고공행진할 것으로 봤기 때문일 것이라면서 인플레이션 위험 회피의 의미도 있어 보인다고 평가했다. 한편 버핏은 지난 2월 버크셔 해서웨이 주주들에게 보낸 서한에서 3월 말 기준 현금보유액이 1063억 달러(약 135조8195억원)로 지난해 말의 1467억 달러(약 187조 4385억원)에 비해 감소했다고 밝힌 바 있다. '"
      ]
     },
     "execution_count": 111,
     "metadata": {},
     "output_type": "execute_result"
    }
   ],
   "source": [
    "text = b\n",
    "text"
   ]
  },
  {
   "cell_type": "code",
   "execution_count": 112,
   "id": "dcee694c",
   "metadata": {},
   "outputs": [],
   "source": [
    "from konlpy.tag import Kkma\n",
    "from konlpy.tag import Twitter\n",
    "from sklearn.feature_extraction.text import TfidfVectorizer\n",
    "from sklearn.feature_extraction.text import CountVectorizer\n",
    "from sklearn.preprocessing import normalize\n",
    "import numpy as np"
   ]
  },
  {
   "cell_type": "code",
   "execution_count": 113,
   "id": "8a6cddd5",
   "metadata": {},
   "outputs": [],
   "source": [
    "kkma = Kkma()\n",
    "\n",
    "# text입력받아 kkma.sentences()를 이용해 문장단위로 나는 뒤 sentences로 리턴\n",
    "def text2sentences(text):\n",
    "    sentences= kkma.sentences(text)  # text일 때 문장별로 리스트 만듦\n",
    "    for idx in range(0, len(sentences)): #길이에 따라 문장 합침\n",
    "        if len(sentences[idx]) <= 10:\n",
    "            sentences[idx-1] += (' ' + sentences[idx])\n",
    "            sentences[idx] = ''\n",
    "    return sentences"
   ]
  },
  {
   "cell_type": "code",
   "execution_count": 114,
   "id": "49c0af37",
   "metadata": {
    "scrolled": false
   },
   "outputs": [
    {
     "data": {
      "text/plain": [
       "['투자의 귀재 워 런 버핏의 투자회사 버크셔 해서웨이가 최근 에너지 주 중심으로 주식을 대거 매입하고 있다고',\n",
       " '미 월 스트리트 저널 (WSJ) 이 16일( 현지시간) 보도했다.',\n",
       " '버크셔 해서웨이는 이날 미 증권거래위원회 (SEC) 공시를 통해 지난주 옥시 덴 털 패트롤 리 엄 주식 90만 1768 주를 사들였다고 밝혔다.',\n",
       " '지난 2월 말부터 옥시 덴 털 주식을 매입하기 시작해 현재는 10대 보유 종목에 들어갈 정도로 보유 지분을 늘렸다.',\n",
       " '옥시 덴 털 페트롤 리 엄은 이날 뉴욕 증권거래소에서 5.68% (3.64 달러) 상승한 67.72 달러에 거래를 마쳤다.',\n",
       " '지난주 마지막 거래 일인 지난 14일 8.21% 의 상승률을 기록했던 주가가 이번 주 첫 거래 일인 이날까지 강세를 보이고 있는 모습니다.',\n",
       " '시장에서는 옥시 덴 털 페트롤 리 엄을 추가로 사들인 버핏의 선택이 매수세를 이끈 것으로 평가하고 있다.',\n",
       " '이와 함께 버크셔 해서웨이는 지난 몇 달 동안 석유업체인 셰브런과 마이크로 소프트 (MS) 가 인수를 발표한 대형 게임업체 액 티 비전 블 리 자드, PC· 프린터 제조사 HP, 씨티그룹과 앨리 파이낸셜의 주식을 사들였으며, 애플 지분도 계속 늘려 왔다.',\n",
       " '이에 반해 대형 은행 웰 스파고의 지분은 대부분 정리한 것으로 알려 졌다.',\n",
       " '평소 버핏이 투자자들에게 강조한 \" 남들이 두려워할 때 욕심을 내라\" 고 한 말을 실행하고 있다는 분석이다.',\n",
       " '버핏이 투자를 늘린 에너지 주는 올해 스탠더드 앤드 푸어 스 (S &P )500 지수 업종 가운데 가장 좋은 주가 흐름을 보이고 있다.',\n",
       " '올해 들어 S&P500 지수는 16% 하락했으나 옥시 덴 털과 셰브 런 주가는 각각 134% 와 47% 치솟았다.',\n",
       " '아리엘 인베스트먼츠의 루 팔 반 살리는 버핏의 셰브런과 옥시 덴 털 투자는 원자재 가격이 당분간 고공 행진할 것으로 봤기 때문일 것이라면서 인플레이션 위험 회피의 의미도 있어 보인다고 평가했다.',\n",
       " '한편 버핏은 지난 2월 버크셔 해서 웨이 주주들에게 보낸 서한에서 3월 말 기준 현금 보유액이 1063억 달러( 약 135조 8195억원) 로 지난해 말의 1467억 달러( 약 187조 4385억원 )에 비해 감소했다고 밝힌 바 있다.',\n",
       " '']"
      ]
     },
     "execution_count": 114,
     "metadata": {},
     "output_type": "execute_result"
    }
   ],
   "source": [
    "#기사본문 가져오기\n",
    "sentences = text2sentences(text)\n",
    "sentences"
   ]
  },
  {
   "cell_type": "code",
   "execution_count": 115,
   "id": "462b47ef",
   "metadata": {},
   "outputs": [
    {
     "name": "stderr",
     "output_type": "stream",
     "text": [
      "C:\\ProgramData\\Anaconda3\\lib\\site-packages\\konlpy\\tag\\_okt.py:17: UserWarning: \"Twitter\" has changed to \"Okt\" since KoNLPy v0.4.5.\n",
      "  warn('\"Twitter\" has changed to \"Okt\" since KoNLPy v0.4.5.')\n"
     ]
    }
   ],
   "source": [
    "twitter = Twitter()\n",
    "from konlpy.tag import Okt\n",
    "okt = Okt()\n",
    "\n",
    "#불용어제거\n",
    "stopwords = ['( )','안녕하세요', '아', '으', '네' ,'코']\n",
    "def get_nouns(sentences):\n",
    "    nouns = []\n",
    "    for sentence in sentences:\n",
    "        if sentence != '':\n",
    "            nouns.append(' '.join([noun for noun in twitter.nouns(str(sentence))\n",
    "                                  if noun not in stopwords and len(noun) > 1]))\n",
    "    return nouns"
   ]
  },
  {
   "cell_type": "code",
   "execution_count": 116,
   "id": "d3b11244",
   "metadata": {},
   "outputs": [],
   "source": [
    "nouns = get_nouns(sentences)"
   ]
  },
  {
   "cell_type": "code",
   "execution_count": 117,
   "id": "900dcbd3",
   "metadata": {},
   "outputs": [
    {
     "name": "stdout",
     "output_type": "stream",
     "text": [
      "투자의 귀재 워 런 버핏의 투자회사 버크셔 해서웨이가 최근 에너지 주 중심으로 주식을 대거 매입하고 있다고\n",
      "투자 버핏 투자 회사 버크셔 해서웨이 최근 에너지 중심 주식 대거 매입\n"
     ]
    }
   ],
   "source": [
    "nouns = get_nouns(sentences)\n",
    "print(sentences[0])\n",
    "print(nouns[0])"
   ]
  },
  {
   "cell_type": "markdown",
   "id": "9e402f67",
   "metadata": {},
   "source": [
    "# TF-IDF 모델 생성 및 그래프 생성"
   ]
  },
  {
   "cell_type": "code",
   "execution_count": 118,
   "id": "f6d8f141",
   "metadata": {},
   "outputs": [],
   "source": [
    "tfidf = TfidfVectorizer()\n",
    "cnt_vec = CountVectorizer()\n",
    "graph_sentence = []"
   ]
  },
  {
   "cell_type": "code",
   "execution_count": 119,
   "id": "42f621ec",
   "metadata": {},
   "outputs": [
    {
     "data": {
      "text/plain": [
       "array([[1.        , 0.        , 0.17670982, 0.13112213, 0.        ,\n",
       "        0.        , 0.04800316, 0.10085308, 0.        , 0.04339061,\n",
       "        0.22448902, 0.        , 0.123033  , 0.07313174],\n",
       "       [0.        , 1.        , 0.        , 0.        , 0.        ,\n",
       "        0.        , 0.        , 0.        , 0.        , 0.        ,\n",
       "        0.        , 0.        , 0.        , 0.        ],\n",
       "       [0.17670982, 0.        , 1.        , 0.09708922, 0.20510547,\n",
       "        0.17702149, 0.0530762 , 0.11151135, 0.        , 0.        ,\n",
       "        0.        , 0.05183348, 0.0304192 , 0.04742422],\n",
       "       [0.13112213, 0.        , 0.09708922, 1.        , 0.03909883,\n",
       "        0.04164404, 0.04986946, 0.06499707, 0.        , 0.        ,\n",
       "        0.        , 0.04870183, 0.02858135, 0.18234164],\n",
       "       [0.        , 0.        , 0.20510547, 0.03909883, 1.        ,\n",
       "        0.1056644 , 0.16504152, 0.        , 0.        , 0.        ,\n",
       "        0.        , 0.05048036, 0.0296251 , 0.28562862],\n",
       "       [0.        , 0.        , 0.17702149, 0.04164404, 0.1056644 ,\n",
       "        1.        , 0.        , 0.02529569, 0.        , 0.        ,\n",
       "        0.10700853, 0.06580823, 0.        , 0.03468309],\n",
       "       [0.04800316, 0.        , 0.0530762 , 0.04986946, 0.16504152,\n",
       "        0.        , 1.        , 0.        , 0.        , 0.05959483,\n",
       "        0.04626099, 0.06438628, 0.15843175, 0.0415336 ],\n",
       "       [0.10085308, 0.        , 0.11151135, 0.06499707, 0.        ,\n",
       "        0.02529569, 0.        , 1.        , 0.06306184, 0.        ,\n",
       "        0.        , 0.        , 0.03807057, 0.05413257],\n",
       "       [0.        , 0.        , 0.        , 0.        , 0.        ,\n",
       "        0.        , 0.        , 0.06306184, 1.        , 0.        ,\n",
       "        0.        , 0.        , 0.        , 0.        ],\n",
       "       [0.04339061, 0.        , 0.        , 0.        , 0.        ,\n",
       "        0.        , 0.05959483, 0.        , 0.        , 1.        ,\n",
       "        0.04181583, 0.        , 0.03415518, 0.03754269],\n",
       "       [0.22448902, 0.        , 0.        , 0.        , 0.        ,\n",
       "        0.10700853, 0.04626099, 0.        , 0.        , 0.04181583,\n",
       "        1.        , 0.27656756, 0.07254051, 0.02914283],\n",
       "       [0.        , 0.        , 0.05183348, 0.04870183, 0.05048036,\n",
       "        0.06580823, 0.06438628, 0.        , 0.        , 0.        ,\n",
       "        0.27656756, 1.        , 0.03690127, 0.        ],\n",
       "       [0.123033  , 0.        , 0.0304192 , 0.02858135, 0.0296251 ,\n",
       "        0.        , 0.15843175, 0.03807057, 0.        , 0.03415518,\n",
       "        0.07254051, 0.03690127, 1.        , 0.02380387],\n",
       "       [0.07313174, 0.        , 0.04742422, 0.18234164, 0.28562862,\n",
       "        0.03468309, 0.0415336 , 0.05413257, 0.        , 0.03754269,\n",
       "        0.02914283, 0.        , 0.02380387, 1.        ]])"
      ]
     },
     "execution_count": 119,
     "metadata": {},
     "output_type": "execute_result"
    }
   ],
   "source": [
    "def build_sent_graph(sentence):\n",
    "    tfidf_mat = tfidf.fit_transform(sentence).toarray()\n",
    "    graph_sentence = np.dot(tfidf_mat, tfidf_mat.T)\n",
    "    return graph_sentence\n",
    "\n",
    "sent_graph = build_sent_graph(nouns)\n",
    "sent_graph"
   ]
  },
  {
   "cell_type": "code",
   "execution_count": 120,
   "id": "b9d4cb62",
   "metadata": {},
   "outputs": [],
   "source": [
    "def build_words_graph(sentence):\n",
    "    cnt_vec_mat = normalize(cnt_vec.fit_transform(sentence).toarray().astype(float), axis=0)\n",
    "    vocab = cnt_vec.vocabulary_\n",
    "    return np.dot(cnt_vec_mat.T, cnt_vec_mat), {vocab[word] : word for word in vocab}"
   ]
  },
  {
   "cell_type": "code",
   "execution_count": 121,
   "id": "4228b1d7",
   "metadata": {},
   "outputs": [],
   "source": [
    "words_graph, idx2word = build_words_graph(nouns)"
   ]
  },
  {
   "cell_type": "code",
   "execution_count": 122,
   "id": "dd7c53d9",
   "metadata": {},
   "outputs": [
    {
     "data": {
      "text/plain": [
       "array([[1., 0., 0., ..., 0., 1., 0.],\n",
       "       [0., 1., 1., ..., 0., 0., 1.],\n",
       "       [0., 1., 1., ..., 0., 0., 1.],\n",
       "       ...,\n",
       "       [0., 0., 0., ..., 1., 0., 0.],\n",
       "       [1., 0., 0., ..., 0., 1., 0.],\n",
       "       [0., 1., 1., ..., 0., 0., 1.]])"
      ]
     },
     "execution_count": 122,
     "metadata": {},
     "output_type": "execute_result"
    }
   ],
   "source": [
    "words_graph"
   ]
  },
  {
   "cell_type": "code",
   "execution_count": 123,
   "id": "12279119",
   "metadata": {},
   "outputs": [
    {
     "data": {
      "text/plain": [
       "{92: '투자',\n",
       " 32: '버핏',\n",
       " 107: '회사',\n",
       " 31: '버크셔',\n",
       " 102: '해서웨이',\n",
       " 89: '최근',\n",
       " 61: '에너지',\n",
       " 83: '중심',\n",
       " 81: '주식',\n",
       " 20: '대거',\n",
       " 27: '매입',\n",
       " 47: '스트리트',\n",
       " 106: '현지',\n",
       " 50: '시간',\n",
       " 34: '보도',\n",
       " 84: '증권',\n",
       " 7: '거래',\n",
       " 67: '위원회',\n",
       " 13: '공시',\n",
       " 91: '통해',\n",
       " 86: '지난주',\n",
       " 62: '옥시',\n",
       " 94: '트롤',\n",
       " 85: '지난',\n",
       " 51: '시작',\n",
       " 105: '현재',\n",
       " 35: '보유',\n",
       " 79: '종목',\n",
       " 76: '정도',\n",
       " 96: '페트롤',\n",
       " 17: '뉴욕',\n",
       " 8: '거래소',\n",
       " 18: '달러',\n",
       " 39: '상승',\n",
       " 26: '마지막',\n",
       " 74: '일인',\n",
       " 49: '승률',\n",
       " 15: '기록',\n",
       " 80: '주가',\n",
       " 71: '이번',\n",
       " 5: '강세',\n",
       " 36: '보이',\n",
       " 29: '모습',\n",
       " 52: '시장',\n",
       " 90: '추가',\n",
       " 42: '선택',\n",
       " 97: '평가',\n",
       " 23: '동안',\n",
       " 41: '석유',\n",
       " 60: '업체',\n",
       " 44: '셰브런',\n",
       " 25: '마이크로',\n",
       " 45: '소프트',\n",
       " 72: '인수',\n",
       " 30: '발표',\n",
       " 22: '대형',\n",
       " 9: '게임',\n",
       " 75: '자드',\n",
       " 99: '프린터',\n",
       " 78: '조사',\n",
       " 54: '씨티',\n",
       " 14: '그룹',\n",
       " 58: '앨리',\n",
       " 95: '파이낸셜',\n",
       " 56: '애플',\n",
       " 37: '분도',\n",
       " 10: '계속',\n",
       " 69: '은행',\n",
       " 48: '스파',\n",
       " 12: '고의',\n",
       " 21: '대부분',\n",
       " 77: '정리',\n",
       " 98: '평소',\n",
       " 93: '투자자',\n",
       " 6: '강조',\n",
       " 64: '욕심',\n",
       " 53: '실행',\n",
       " 38: '분석',\n",
       " 63: '올해',\n",
       " 46: '스탠더드',\n",
       " 57: '앤드',\n",
       " 88: '지수',\n",
       " 59: '업종',\n",
       " 1: '가운데',\n",
       " 2: '가장',\n",
       " 109: '흐름',\n",
       " 100: '하락',\n",
       " 43: '셰브',\n",
       " 3: '각각',\n",
       " 55: '아리엘',\n",
       " 33: '베스트',\n",
       " 65: '원자재',\n",
       " 0: '가격',\n",
       " 19: '당분간',\n",
       " 11: '고공',\n",
       " 103: '행진',\n",
       " 24: '때문',\n",
       " 28: '면서',\n",
       " 73: '인플레이션',\n",
       " 68: '위험',\n",
       " 108: '회피',\n",
       " 70: '의미',\n",
       " 101: '한편',\n",
       " 66: '웨이',\n",
       " 82: '주주',\n",
       " 40: '서한',\n",
       " 16: '기준',\n",
       " 104: '현금',\n",
       " 87: '지난해',\n",
       " 4: '감소'}"
      ]
     },
     "execution_count": 123,
     "metadata": {},
     "output_type": "execute_result"
    }
   ],
   "source": [
    "idx2word"
   ]
  },
  {
   "cell_type": "code",
   "execution_count": 124,
   "id": "e63d0f67",
   "metadata": {},
   "outputs": [
    {
     "name": "stdout",
     "output_type": "stream",
     "text": [
      "24\n"
     ]
    }
   ],
   "source": [
    "for key, value in idx2word.items():\n",
    "    if value == '때문':\n",
    "        print(key)"
   ]
  },
  {
   "cell_type": "code",
   "execution_count": 125,
   "id": "d0294fa5",
   "metadata": {},
   "outputs": [],
   "source": [
    "def get_ranks(graph, d=0.85):\n",
    "    A = graph\n",
    "    matrix_size = A.shape[0]\n",
    "    for id in range(matrix_size):\n",
    "        A[id, id] = 0\n",
    "        link_sum = np.sum(A[:,id])\n",
    "        if link_sum != 0:\n",
    "            A[:, id] /= link_sum\n",
    "        A[:, id] *= -d\n",
    "        A[id, id] = 1\n",
    "        \n",
    "    B = (1-d) * np.ones((matrix_size, 1))\n",
    "    ranks = np.linalg.solve(A, B)\n",
    "    return {idx: r[0] for idx, r in enumerate(ranks)}"
   ]
  },
  {
   "cell_type": "code",
   "execution_count": 126,
   "id": "0dfa9589",
   "metadata": {},
   "outputs": [
    {
     "data": {
      "text/plain": [
       "{0: 1.4047005213097443,\n",
       " 1: 0.15000000000000002,\n",
       " 2: 1.4242032978821177,\n",
       " 3: 1.0592374044138737,\n",
       " 4: 1.2983393906222889,\n",
       " 5: 0.875042724852007,\n",
       " 6: 1.0700516913707339,\n",
       " 7: 0.8791563584321606,\n",
       " 8: 0.2529105787178386,\n",
       " 9: 0.43478830072870045,\n",
       " 10: 1.2199066685057607,\n",
       " 11: 0.9266436284730908,\n",
       " 12: 0.9273553978890268,\n",
       " 13: 1.2276640368026561}"
      ]
     },
     "execution_count": 126,
     "metadata": {},
     "output_type": "execute_result"
    }
   ],
   "source": [
    "sent_rank_idx = get_ranks(sent_graph)\n",
    "sent_rank_idx"
   ]
  },
  {
   "cell_type": "code",
   "execution_count": 127,
   "id": "7536a6c3",
   "metadata": {},
   "outputs": [
    {
     "data": {
      "text/plain": [
       "[2, 0, 4, 13, 10, 6, 3, 12, 11, 7, 5, 9, 8, 1]"
      ]
     },
     "execution_count": 127,
     "metadata": {},
     "output_type": "execute_result"
    }
   ],
   "source": [
    "sorted_sent_rank_idx = sorted(sent_rank_idx, key=lambda k: sent_rank_idx[k], reverse=True)\n",
    "sorted_sent_rank_idx"
   ]
  },
  {
   "cell_type": "code",
   "execution_count": 128,
   "id": "e9639afb",
   "metadata": {},
   "outputs": [],
   "source": [
    "word_rank_idx = get_ranks(words_graph)\n",
    "sorted_word_rank_idx = sorted(word_rank_idx, key=lambda k: word_rank_idx[k], reverse=True)"
   ]
  },
  {
   "cell_type": "markdown",
   "id": "93db85ae",
   "metadata": {},
   "source": [
    "# 요약하기 실행"
   ]
  },
  {
   "cell_type": "code",
   "execution_count": 129,
   "id": "1e59e767",
   "metadata": {},
   "outputs": [],
   "source": [
    "llist=[]\n",
    "summary = []\n",
    "summarize=[]\n",
    "index = []\n",
    "for idx in sorted_sent_rank_idx[:1]:\n",
    "    index.append(idx)\n",
    "        \n",
    "index.append(idx)\n",
    "    \n",
    "for idx in index:\n",
    "    summary.append(sentences[idx])\n",
    "        \n",
    "for text in summary[:]:\n",
    "    llist.append(text)\n",
    "    \n",
    "m = list(set(llist))\n",
    "\n",
    "for i in m:\n",
    "    i = i.replace('-( )', '')\n",
    "    summarize.append(i)"
   ]
  },
  {
   "cell_type": "code",
   "execution_count": 130,
   "id": "51206d09",
   "metadata": {},
   "outputs": [],
   "source": [
    "llist=[]\n",
    "summary = []\n",
    "summarize=[]\n",
    "index = []\n",
    "for idx in sorted_sent_rank_idx[:3]:\n",
    "    index.append(idx)\n",
    "        \n",
    "index.append(idx)\n",
    "    \n",
    "for idx in index:\n",
    "    summary.append(sentences[idx])\n",
    "        \n",
    "for text in summary[:]:\n",
    "    llist.append(text)\n",
    "    \n",
    "m = list(set(llist))\n",
    "\n",
    "for i in m:\n",
    "    i = i.replace('-( )', '')\n",
    "    summarize.append(i)"
   ]
  },
  {
   "cell_type": "code",
   "execution_count": 131,
   "id": "ce2c6026",
   "metadata": {
    "scrolled": true
   },
   "outputs": [
    {
     "data": {
      "text/plain": [
       "['투자의 귀재 워 런 버핏의 투자회사 버크셔 해서웨이가 최근 에너지 주 중심으로 주식을 대거 매입하고 있다고',\n",
       " '옥시 덴 털 페트롤 리 엄은 이날 뉴욕 증권거래소에서 5.68% (3.64 달러) 상승한 67.72 달러에 거래를 마쳤다.',\n",
       " '버크셔 해서웨이는 이날 미 증권거래위원회 (SEC) 공시를 통해 지난주 옥시 덴 털 패트롤 리 엄 주식 90만 1768 주를 사들였다고 밝혔다.']"
      ]
     },
     "execution_count": 131,
     "metadata": {},
     "output_type": "execute_result"
    }
   ],
   "source": [
    "# 1문장 요약\n",
    "summarize"
   ]
  },
  {
   "cell_type": "code",
   "execution_count": 82,
   "id": "766805af",
   "metadata": {},
   "outputs": [
    {
     "data": {
      "text/plain": [
       "['현재 유럽에서는 암호 화폐가 최소한의 환경적 지속 가능성 기준을 따라야 한다며 이런 작업 증명 방식을 채택한 암호 화폐를 사실상 금지하는 방안이 논의 중이다.',\n",
       " '암호 화폐 거래소 ‘FTX ’를 창업한 샘 뱅크 맨- 프라이드 최고 경영자 (CEO) 가 비트 코 인이 지급 결제 네트워크로서 미래가 없다고 말했다고',\n",
       " '그는 작업 증명 방식보다는 지분 증명 (PoS) 방식이 더 싸고 전력을 덜 소비하기 때문에 암호 화폐가 지급 결제 네트워크로 진화하는 데 더 적합한 방식이라고 주장했다.']"
      ]
     },
     "execution_count": 82,
     "metadata": {},
     "output_type": "execute_result"
    }
   ],
   "source": [
    "# 3문장 요약\n",
    "summarize"
   ]
  },
  {
   "cell_type": "code",
   "execution_count": 57,
   "id": "c422162f",
   "metadata": {},
   "outputs": [
    {
     "data": {
      "text/plain": [
       "'정답은 나무가 있는 숲입니다. 그렇다면 마스크에 위축된 아이들의 뇌 잘 발달하도록 자극할 방법 없을까요? 나무가 있는 숲과 강 그리고 호수와 잔디, 집 근처 어떤 자연 환경이 있을 때 아이들 뇌가 잘 발달할까요? 호수일까요?'"
      ]
     },
     "execution_count": 57,
     "metadata": {},
     "output_type": "execute_result"
    }
   ],
   "source": [
    "summary = ' '.join(summarize)\n",
    "summary"
   ]
  },
  {
   "cell_type": "code",
   "execution_count": 51,
   "id": "059f02cf",
   "metadata": {
    "scrolled": true
   },
   "outputs": [
    {
     "data": {
      "text/plain": [
       "['뇌 두께가 더 두꺼울수록 뇌가 더 발달했다고',\n",
       " '정답은 나무가 있는 숲입니다.',\n",
       " '나무가 있는 숲과 강 그리고 호수와 잔디, 집 근처 어떤 자연 환경이 있을 때 아이들 뇌가 잘 발달할까요? 호수일까요?',\n",
       " '멀리 보이는 숲은 어린이에게 지혜를 주고 가까이 닿는 나무는 어린이의 다친 마음을 치유해 준다는 겁니다.',\n",
       " '그렇다면 마스크에 위축된 아이들의 뇌 잘 발달하도록 자극할 방법 없을까요?']"
      ]
     },
     "execution_count": 51,
     "metadata": {},
     "output_type": "execute_result"
    }
   ],
   "source": [
    "summarize"
   ]
  },
  {
   "cell_type": "code",
   "execution_count": 52,
   "id": "09446984",
   "metadata": {},
   "outputs": [
    {
     "data": {
      "text/plain": [
       "'뇌 두께가 더 두꺼울수록 뇌가 더 발달했다고 정답은 나무가 있는 숲입니다. 나무가 있는 숲과 강 그리고 호수와 잔디, 집 근처 어떤 자연 환경이 있을 때 아이들 뇌가 잘 발달할까요? 호수일까요? 멀리 보이는 숲은 어린이에게 지혜를 주고 가까이 닿는 나무는 어린이의 다친 마음을 치유해 준다는 겁니다. 그렇다면 마스크에 위축된 아이들의 뇌 잘 발달하도록 자극할 방법 없을까요?'"
      ]
     },
     "execution_count": 52,
     "metadata": {},
     "output_type": "execute_result"
    }
   ],
   "source": [
    "summary = ' '.join(summarize)\n",
    "summary"
   ]
  },
  {
   "cell_type": "code",
   "execution_count": 53,
   "id": "f346c2ff",
   "metadata": {},
   "outputs": [],
   "source": [
    "stop_words = ['때문', '지금', '이', '을', '의', '는', '가', '들', ',', '도',\n",
    "              '은', '그', '.', '를', '너무', '고', '것' ,'로', '하는','보고','에','때','에',\n",
    "              '저','하고','에서','정말','못','다','까지','또','개','수','으로','만','할',\n",
    "              '과','인','님','-','임','7','봐도','하는거','그냥','해도','바로','순간',\n",
    "              '잘','한','겁나','나','같이','함께','라고','쓴','아니라','아닌','옹','살','진짜','하는게','같아요','제목','적', '가야','지금',\n",
    "             '관련']\n",
    "    \n",
    "keywords = []\n",
    "index = []\n",
    "for idx in sorted_word_rank_idx[:15]:\n",
    "    index.append(idx)\n",
    "        \n",
    "for idx in index:\n",
    "    keywords.append(idx2word[idx])\n",
    "        \n",
    "keywords = [each_word for each_word in keywords\n",
    "            if each_word not in stop_words]\n",
    "        \n",
    "keyword = keywords[:5]"
   ]
  },
  {
   "cell_type": "code",
   "execution_count": 54,
   "id": "67574145",
   "metadata": {},
   "outputs": [
    {
     "data": {
      "text/plain": [
       "['아이', '분석', '발달', '연구', '동안']"
      ]
     },
     "execution_count": 54,
     "metadata": {},
     "output_type": "execute_result"
    }
   ],
   "source": [
    "keyword"
   ]
  },
  {
   "cell_type": "code",
   "execution_count": null,
   "id": "a8d810c0",
   "metadata": {},
   "outputs": [],
   "source": []
  },
  {
   "cell_type": "code",
   "execution_count": null,
   "id": "c78f2b16",
   "metadata": {},
   "outputs": [],
   "source": []
  },
  {
   "cell_type": "code",
   "execution_count": null,
   "id": "c5c0c1e1",
   "metadata": {},
   "outputs": [],
   "source": []
  },
  {
   "cell_type": "code",
   "execution_count": null,
   "id": "61e3d925",
   "metadata": {},
   "outputs": [],
   "source": []
  },
  {
   "cell_type": "code",
   "execution_count": null,
   "id": "cc13721c",
   "metadata": {},
   "outputs": [],
   "source": []
  },
  {
   "cell_type": "code",
   "execution_count": null,
   "id": "c9cea859",
   "metadata": {},
   "outputs": [],
   "source": []
  },
  {
   "cell_type": "code",
   "execution_count": null,
   "id": "890ff12d",
   "metadata": {},
   "outputs": [],
   "source": []
  },
  {
   "cell_type": "code",
   "execution_count": null,
   "id": "ba70ab48",
   "metadata": {},
   "outputs": [],
   "source": []
  },
  {
   "cell_type": "code",
   "execution_count": null,
   "id": "c7395e6f",
   "metadata": {},
   "outputs": [],
   "source": []
  },
  {
   "cell_type": "code",
   "execution_count": null,
   "id": "b8e1eefd",
   "metadata": {},
   "outputs": [],
   "source": []
  },
  {
   "cell_type": "code",
   "execution_count": null,
   "id": "cea879a7",
   "metadata": {},
   "outputs": [],
   "source": []
  },
  {
   "cell_type": "code",
   "execution_count": null,
   "id": "afe9a742",
   "metadata": {},
   "outputs": [],
   "source": []
  },
  {
   "cell_type": "code",
   "execution_count": null,
   "id": "52ce3524",
   "metadata": {},
   "outputs": [],
   "source": []
  },
  {
   "cell_type": "code",
   "execution_count": null,
   "id": "ce8bcde3",
   "metadata": {},
   "outputs": [],
   "source": []
  },
  {
   "cell_type": "code",
   "execution_count": null,
   "id": "f936177e",
   "metadata": {},
   "outputs": [],
   "source": []
  },
  {
   "cell_type": "code",
   "execution_count": null,
   "id": "dfc0fb3a",
   "metadata": {},
   "outputs": [],
   "source": []
  },
  {
   "cell_type": "code",
   "execution_count": null,
   "id": "9c61fa69",
   "metadata": {},
   "outputs": [],
   "source": []
  },
  {
   "cell_type": "code",
   "execution_count": null,
   "id": "00b8fc88",
   "metadata": {},
   "outputs": [],
   "source": []
  },
  {
   "cell_type": "code",
   "execution_count": null,
   "id": "d6479f98",
   "metadata": {},
   "outputs": [],
   "source": []
  },
  {
   "cell_type": "code",
   "execution_count": null,
   "id": "7fe4992a",
   "metadata": {},
   "outputs": [],
   "source": []
  },
  {
   "cell_type": "markdown",
   "id": "f6d1d7c6",
   "metadata": {},
   "source": [
    "def summarize(sent_num=5):\n",
    "    summary = []\n",
    "    index = []\n",
    "    for idx in sorted_sent_rank_idx[:sent_num]:\n",
    "        index.append(idx)\n",
    "        \n",
    "    index.append(idx)\n",
    "    \n",
    "    for idx in index:\n",
    "        summary.append(sentences[idx])\n",
    "        \n",
    "    for text in summary[:]:\n",
    "        print(text)"
   ]
  }
 ],
 "metadata": {
  "kernelspec": {
   "display_name": "Python 3 (ipykernel)",
   "language": "python",
   "name": "python3"
  },
  "language_info": {
   "codemirror_mode": {
    "name": "ipython",
    "version": 3
   },
   "file_extension": ".py",
   "mimetype": "text/x-python",
   "name": "python",
   "nbconvert_exporter": "python",
   "pygments_lexer": "ipython3",
   "version": "3.9.7"
  }
 },
 "nbformat": 4,
 "nbformat_minor": 5
}

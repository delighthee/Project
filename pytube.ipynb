{
 "cells": [
  {
   "cell_type": "code",
   "execution_count": 1,
   "id": "575ae5d1-d881-4920-8210-2057a53bd95b",
   "metadata": {},
   "outputs": [],
   "source": [
    "from pytube import YouTube"
   ]
  },
  {
   "cell_type": "code",
   "execution_count": 2,
   "id": "27880c5c",
   "metadata": {},
   "outputs": [],
   "source": [
    "video_url = 'https://youtu.be/1LoJx9KqSEU'\n",
    "yt = YouTube(video_url)"
   ]
  },
  {
   "cell_type": "code",
   "execution_count": 3,
   "id": "5cc46365",
   "metadata": {},
   "outputs": [
    {
     "name": "stdout",
     "output_type": "stream",
     "text": [
      "[영상 제목] 러시아, 전승절 맞아 \"무차별 공습\" 경고…긴장감 고조 / SBS\n",
      "[영상 게시자] SBS 뉴스\n",
      "[조회수] 23756\n",
      "[평균평점] None\n",
      "[영상길이(초)] 257\n",
      "[연령제한여부] False\n",
      "[영상 설명] 제2차 세계대전 당시 러시아가 독일을 물리친 걸 기념하는 날인 전승절을 맞아서 우크라이나에 다시 긴장감이 높아지고 있습니다. 우크라이나 르비우에 나가 있는 저희 취재기자 연결해 보겠습니다.\n",
      "장선이 특파원, 러시아군이 다시 위협 수위를 높이고 있는데 그곳 르비우 분위기는 어떻습니까?\n",
      "\n",
      "원문 기사 더보기 \n",
      "https://news.sbs.co.kr/y/?id=N1006743692\n",
      "\n",
      "[러시아, 우크라이나 침공] 기사 더보기 \n",
      "https://news.sbs.co.kr/y/i/?id=10000053472\n",
      " \n",
      "\n",
      "#SBS뉴스 #러시아 #전승절\n",
      "\n",
      "▶SBS 뉴스 채널 구독하기 : https://n.sbs.co.kr/youtube \n",
      "▶SBS 뉴스 라이브 : https://n.sbs.co.kr/youtubeLive , https://n.sbs.co.kr/live \n",
      "\n",
      "▶SBS 뉴스 제보하기\n",
      "홈페이지: https://n.sbs.co.kr/inform \n",
      "애플리케이션: 'SBS뉴스' 앱 설치하고 제보 - https://n.sbs.co.kr/App \n",
      "카카오톡: 'SBS뉴스'와 친구 맺고 채팅 - https://pf.kakao.com/_ewsdq/chat \n",
      "페이스북: 'SBS뉴스' 메시지 전송 - https://www.facebook.com/sbs8news \n",
      "이메일: sbs8news@sbs.co.kr \n",
      "문자: #6000 \n",
      "전화: 02-2113-6000 \n",
      "\n",
      "홈페이지: https://news.sbs.co.kr/ \n",
      "페이스북: https://www.facebook.com/sbs8news \n",
      "트위터: https://www.twitter.com/sbs8news\n",
      "카카오톡: https://pf.kakao.com/_ewsdq\n",
      "인스타그램: https://www.instagram.com/sbsnews\n",
      "[썸네일URL] https://i.ytimg.com/vi/1LoJx9KqSEU/hqdefault.jpg\n"
     ]
    }
   ],
   "source": [
    "print(\"[영상 제목]\", yt.title)  # 영상제목\n",
    "print(\"[영상 게시자]\", yt.author) # 영상 게시자\n",
    "print(\"[조회수]\", yt.views)\n",
    "print(\"[평균평점]\", yt.rating) # 평균 평점\n",
    "print(\"[영상길이(초)]\", yt.length)\n",
    "print(\"[연령제한여부]\", yt.age_restricted)\n",
    "print(\"[영상 설명]\", yt.description) # 영상 설명\n",
    "print(\"[썸네일URL]\", yt.thumbnail_url) # 썸네일 url 주소"
   ]
  },
  {
   "cell_type": "code",
   "execution_count": 4,
   "id": "6e60647b",
   "metadata": {},
   "outputs": [
    {
     "name": "stderr",
     "output_type": "stream",
     "text": [
      "/var/folders/ls/xl42zdxs2992bdl9ypqdvtn80000gn/T/ipykernel_25751/2973919538.py:1: DeprecationWarning: Call to deprecated function all (This object can be treated as a list, all() is useless).\n",
      "  yt.streams.all()\n"
     ]
    },
    {
     "data": {
      "text/plain": [
       "[<Stream: itag=\"17\" mime_type=\"video/3gpp\" res=\"144p\" fps=\"8fps\" vcodec=\"mp4v.20.3\" acodec=\"mp4a.40.2\" progressive=\"True\" type=\"video\">,\n",
       " <Stream: itag=\"18\" mime_type=\"video/mp4\" res=\"360p\" fps=\"30fps\" vcodec=\"avc1.42001E\" acodec=\"mp4a.40.2\" progressive=\"True\" type=\"video\">,\n",
       " <Stream: itag=\"22\" mime_type=\"video/mp4\" res=\"720p\" fps=\"30fps\" vcodec=\"avc1.64001F\" acodec=\"mp4a.40.2\" progressive=\"True\" type=\"video\">,\n",
       " <Stream: itag=\"137\" mime_type=\"video/mp4\" res=\"1080p\" fps=\"30fps\" vcodec=\"avc1.640028\" progressive=\"False\" type=\"video\">,\n",
       " <Stream: itag=\"248\" mime_type=\"video/webm\" res=\"1080p\" fps=\"30fps\" vcodec=\"vp9\" progressive=\"False\" type=\"video\">,\n",
       " <Stream: itag=\"399\" mime_type=\"video/mp4\" res=\"1080p\" fps=\"30fps\" vcodec=\"av01.0.08M.08\" progressive=\"False\" type=\"video\">,\n",
       " <Stream: itag=\"136\" mime_type=\"video/mp4\" res=\"720p\" fps=\"30fps\" vcodec=\"avc1.4d401f\" progressive=\"False\" type=\"video\">,\n",
       " <Stream: itag=\"247\" mime_type=\"video/webm\" res=\"720p\" fps=\"30fps\" vcodec=\"vp9\" progressive=\"False\" type=\"video\">,\n",
       " <Stream: itag=\"398\" mime_type=\"video/mp4\" res=\"720p\" fps=\"30fps\" vcodec=\"av01.0.05M.08\" progressive=\"False\" type=\"video\">,\n",
       " <Stream: itag=\"135\" mime_type=\"video/mp4\" res=\"480p\" fps=\"30fps\" vcodec=\"avc1.4d401f\" progressive=\"False\" type=\"video\">,\n",
       " <Stream: itag=\"244\" mime_type=\"video/webm\" res=\"480p\" fps=\"30fps\" vcodec=\"vp9\" progressive=\"False\" type=\"video\">,\n",
       " <Stream: itag=\"397\" mime_type=\"video/mp4\" res=\"480p\" fps=\"30fps\" vcodec=\"av01.0.04M.08\" progressive=\"False\" type=\"video\">,\n",
       " <Stream: itag=\"134\" mime_type=\"video/mp4\" res=\"360p\" fps=\"30fps\" vcodec=\"avc1.4d401e\" progressive=\"False\" type=\"video\">,\n",
       " <Stream: itag=\"243\" mime_type=\"video/webm\" res=\"360p\" fps=\"30fps\" vcodec=\"vp9\" progressive=\"False\" type=\"video\">,\n",
       " <Stream: itag=\"396\" mime_type=\"video/mp4\" res=\"360p\" fps=\"30fps\" vcodec=\"av01.0.01M.08\" progressive=\"False\" type=\"video\">,\n",
       " <Stream: itag=\"133\" mime_type=\"video/mp4\" res=\"240p\" fps=\"30fps\" vcodec=\"avc1.4d4015\" progressive=\"False\" type=\"video\">,\n",
       " <Stream: itag=\"242\" mime_type=\"video/webm\" res=\"240p\" fps=\"30fps\" vcodec=\"vp9\" progressive=\"False\" type=\"video\">,\n",
       " <Stream: itag=\"395\" mime_type=\"video/mp4\" res=\"240p\" fps=\"30fps\" vcodec=\"av01.0.00M.08\" progressive=\"False\" type=\"video\">,\n",
       " <Stream: itag=\"160\" mime_type=\"video/mp4\" res=\"144p\" fps=\"30fps\" vcodec=\"avc1.4d400c\" progressive=\"False\" type=\"video\">,\n",
       " <Stream: itag=\"278\" mime_type=\"video/webm\" res=\"144p\" fps=\"30fps\" vcodec=\"vp9\" progressive=\"False\" type=\"video\">,\n",
       " <Stream: itag=\"394\" mime_type=\"video/mp4\" res=\"144p\" fps=\"30fps\" vcodec=\"av01.0.00M.08\" progressive=\"False\" type=\"video\">,\n",
       " <Stream: itag=\"139\" mime_type=\"audio/mp4\" abr=\"48kbps\" acodec=\"mp4a.40.5\" progressive=\"False\" type=\"audio\">,\n",
       " <Stream: itag=\"140\" mime_type=\"audio/mp4\" abr=\"128kbps\" acodec=\"mp4a.40.2\" progressive=\"False\" type=\"audio\">,\n",
       " <Stream: itag=\"249\" mime_type=\"audio/webm\" abr=\"50kbps\" acodec=\"opus\" progressive=\"False\" type=\"audio\">,\n",
       " <Stream: itag=\"250\" mime_type=\"audio/webm\" abr=\"70kbps\" acodec=\"opus\" progressive=\"False\" type=\"audio\">,\n",
       " <Stream: itag=\"251\" mime_type=\"audio/webm\" abr=\"160kbps\" acodec=\"opus\" progressive=\"False\" type=\"audio\">]"
      ]
     },
     "execution_count": 4,
     "metadata": {},
     "output_type": "execute_result"
    }
   ],
   "source": [
    "yt.streams.all()"
   ]
  },
  {
   "cell_type": "code",
   "execution_count": 5,
   "id": "90e18cce",
   "metadata": {},
   "outputs": [
    {
     "name": "stderr",
     "output_type": "stream",
     "text": [
      "/var/folders/ls/xl42zdxs2992bdl9ypqdvtn80000gn/T/ipykernel_25751/4102320464.py:2: DeprecationWarning: Call to deprecated function all (This object can be treated as a list, all() is useless).\n",
      "  stream = yt.streams.all()[0]\n"
     ]
    },
    {
     "data": {
      "text/plain": [
       "<Stream: itag=\"17\" mime_type=\"video/3gpp\" res=\"144p\" fps=\"8fps\" vcodec=\"mp4v.20.3\" acodec=\"mp4a.40.2\" progressive=\"True\" type=\"video\">"
      ]
     },
     "execution_count": 5,
     "metadata": {},
     "output_type": "execute_result"
    }
   ],
   "source": [
    "# 전송 포맷 중 첫번째 선택\n",
    "stream = yt.streams.all()[0]\n",
    "stream   # <Stream: itag=\"18\" mime_type=\"video/mp4\" res=\"360p\" fps=\"30fps\" vcodec=\"avc1.42001E\" acodec=\"mp4a.40.2\" progressive=\"True\" type=\"video\">"
   ]
  },
  {
   "cell_type": "code",
   "execution_count": 6,
   "id": "e01acd52",
   "metadata": {},
   "outputs": [
    {
     "name": "stderr",
     "output_type": "stream",
     "text": [
      "/var/folders/ls/xl42zdxs2992bdl9ypqdvtn80000gn/T/ipykernel_25751/1364831814.py:3: DeprecationWarning: Call to deprecated function all (This object can be treated as a list, all() is useless).\n",
      "  yt.streams.filter(only_audio = True).all()\n"
     ]
    },
    {
     "data": {
      "text/plain": [
       "[<Stream: itag=\"139\" mime_type=\"audio/mp4\" abr=\"48kbps\" acodec=\"mp4a.40.5\" progressive=\"False\" type=\"audio\">,\n",
       " <Stream: itag=\"140\" mime_type=\"audio/mp4\" abr=\"128kbps\" acodec=\"mp4a.40.2\" progressive=\"False\" type=\"audio\">,\n",
       " <Stream: itag=\"249\" mime_type=\"audio/webm\" abr=\"50kbps\" acodec=\"opus\" progressive=\"False\" type=\"audio\">,\n",
       " <Stream: itag=\"250\" mime_type=\"audio/webm\" abr=\"70kbps\" acodec=\"opus\" progressive=\"False\" type=\"audio\">,\n",
       " <Stream: itag=\"251\" mime_type=\"audio/webm\" abr=\"160kbps\" acodec=\"opus\" progressive=\"False\" type=\"audio\">]"
      ]
     },
     "execution_count": 6,
     "metadata": {},
     "output_type": "execute_result"
    }
   ],
   "source": [
    "# 내가 원하는 영상만 선택하기\n",
    "# 음성만 선택시\n",
    "yt.streams.filter(only_audio = True).all()"
   ]
  },
  {
   "cell_type": "code",
   "execution_count": 7,
   "id": "48de5a57",
   "metadata": {},
   "outputs": [
    {
     "name": "stderr",
     "output_type": "stream",
     "text": [
      "/var/folders/ls/xl42zdxs2992bdl9ypqdvtn80000gn/T/ipykernel_25751/1642139308.py:3: DeprecationWarning: Call to deprecated function all (This object can be treated as a list, all() is useless).\n",
      "  yt.streams.filter(file_extension = 'mp4').all( )\n"
     ]
    },
    {
     "data": {
      "text/plain": [
       "[<Stream: itag=\"18\" mime_type=\"video/mp4\" res=\"360p\" fps=\"30fps\" vcodec=\"avc1.42001E\" acodec=\"mp4a.40.2\" progressive=\"True\" type=\"video\">,\n",
       " <Stream: itag=\"22\" mime_type=\"video/mp4\" res=\"720p\" fps=\"30fps\" vcodec=\"avc1.64001F\" acodec=\"mp4a.40.2\" progressive=\"True\" type=\"video\">,\n",
       " <Stream: itag=\"137\" mime_type=\"video/mp4\" res=\"1080p\" fps=\"30fps\" vcodec=\"avc1.640028\" progressive=\"False\" type=\"video\">,\n",
       " <Stream: itag=\"399\" mime_type=\"video/mp4\" res=\"1080p\" fps=\"30fps\" vcodec=\"av01.0.08M.08\" progressive=\"False\" type=\"video\">,\n",
       " <Stream: itag=\"136\" mime_type=\"video/mp4\" res=\"720p\" fps=\"30fps\" vcodec=\"avc1.4d401f\" progressive=\"False\" type=\"video\">,\n",
       " <Stream: itag=\"398\" mime_type=\"video/mp4\" res=\"720p\" fps=\"30fps\" vcodec=\"av01.0.05M.08\" progressive=\"False\" type=\"video\">,\n",
       " <Stream: itag=\"135\" mime_type=\"video/mp4\" res=\"480p\" fps=\"30fps\" vcodec=\"avc1.4d401f\" progressive=\"False\" type=\"video\">,\n",
       " <Stream: itag=\"397\" mime_type=\"video/mp4\" res=\"480p\" fps=\"30fps\" vcodec=\"av01.0.04M.08\" progressive=\"False\" type=\"video\">,\n",
       " <Stream: itag=\"134\" mime_type=\"video/mp4\" res=\"360p\" fps=\"30fps\" vcodec=\"avc1.4d401e\" progressive=\"False\" type=\"video\">,\n",
       " <Stream: itag=\"396\" mime_type=\"video/mp4\" res=\"360p\" fps=\"30fps\" vcodec=\"av01.0.01M.08\" progressive=\"False\" type=\"video\">,\n",
       " <Stream: itag=\"133\" mime_type=\"video/mp4\" res=\"240p\" fps=\"30fps\" vcodec=\"avc1.4d4015\" progressive=\"False\" type=\"video\">,\n",
       " <Stream: itag=\"395\" mime_type=\"video/mp4\" res=\"240p\" fps=\"30fps\" vcodec=\"av01.0.00M.08\" progressive=\"False\" type=\"video\">,\n",
       " <Stream: itag=\"160\" mime_type=\"video/mp4\" res=\"144p\" fps=\"30fps\" vcodec=\"avc1.4d400c\" progressive=\"False\" type=\"video\">,\n",
       " <Stream: itag=\"394\" mime_type=\"video/mp4\" res=\"144p\" fps=\"30fps\" vcodec=\"av01.0.00M.08\" progressive=\"False\" type=\"video\">,\n",
       " <Stream: itag=\"139\" mime_type=\"audio/mp4\" abr=\"48kbps\" acodec=\"mp4a.40.5\" progressive=\"False\" type=\"audio\">,\n",
       " <Stream: itag=\"140\" mime_type=\"audio/mp4\" abr=\"128kbps\" acodec=\"mp4a.40.2\" progressive=\"False\" type=\"audio\">]"
      ]
     },
     "execution_count": 7,
     "metadata": {},
     "output_type": "execute_result"
    }
   ],
   "source": [
    "# 내가 원하는 영상만 선택하기\n",
    "# mp4만\n",
    "yt.streams.filter(file_extension = 'mp4').all( )"
   ]
  },
  {
   "cell_type": "code",
   "execution_count": 8,
   "id": "188f8382",
   "metadata": {},
   "outputs": [
    {
     "name": "stderr",
     "output_type": "stream",
     "text": [
      "/var/folders/ls/xl42zdxs2992bdl9ypqdvtn80000gn/T/ipykernel_25751/3811381480.py:1: DeprecationWarning: Call to deprecated function all (This object can be treated as a list, all() is useless).\n",
      "  stream = yt.streams.filter(file_extension = 'mp4').all( )[0]\n"
     ]
    },
    {
     "data": {
      "text/plain": [
       "<Stream: itag=\"18\" mime_type=\"video/mp4\" res=\"360p\" fps=\"30fps\" vcodec=\"avc1.42001E\" acodec=\"mp4a.40.2\" progressive=\"True\" type=\"video\">"
      ]
     },
     "execution_count": 8,
     "metadata": {},
     "output_type": "execute_result"
    }
   ],
   "source": [
    "stream = yt.streams.filter(file_extension = 'mp4').all( )[0]\n",
    "stream   # <Stream: itag=\"18\" mime_type=\"video/mp4\" res=\"360p\" fps=\"30fps\" vcodec=\"avc1.42001E\" acodec=\"mp4a.40.2\" progressive=\"True\" type=\"video\">"
   ]
  },
  {
   "cell_type": "code",
   "execution_count": 9,
   "id": "de811794",
   "metadata": {},
   "outputs": [
    {
     "data": {
      "text/plain": [
       "'C:\\\\Users\\\\82102\\\\Desktop\\\\4월 프로젝트\\\\(Kor)뼈를 깎는 노력이 반드시 실패하는 이유  이지영 이투스 강사 @이지영 [Leejiyoung Official]  동기부여 공부 노력   세바시 1491회.mp4'"
      ]
     },
     "execution_count": 9,
     "metadata": {},
     "output_type": "execute_result"
    }
   ],
   "source": [
    "# 영상 다운로드\n",
    "stream.download()"
   ]
  },
  {
   "cell_type": "code",
   "execution_count": 10,
   "id": "5dd081c6",
   "metadata": {},
   "outputs": [
    {
     "data": {
      "text/plain": [
       "'C:\\\\Users\\\\82102\\\\Desktop\\\\4월 프로젝트\\\\test\\\\R.I.P_KOBE'"
      ]
     },
     "execution_count": 10,
     "metadata": {},
     "output_type": "execute_result"
    }
   ],
   "source": [
    "# 파일 이름 지정 \n",
    "## 폴더지정 가능\n",
    "stream.download(output_path='test', filename = 'KOBE', filename_prefix= 'R.I.P_')\n"
   ]
  },
  {
   "cell_type": "markdown",
   "id": "c4652874",
   "metadata": {},
   "source": [
    "#  영상 자막 가져오기"
   ]
  },
  {
   "cell_type": "code",
   "execution_count": 9,
   "id": "7725eb89",
   "metadata": {},
   "outputs": [
    {
     "name": "stderr",
     "output_type": "stream",
     "text": [
      "/var/folders/ls/xl42zdxs2992bdl9ypqdvtn80000gn/T/ipykernel_25751/717592768.py:1: DeprecationWarning: Call to deprecated function all (This object can be treated as a dictionary).\n",
      "  yt.captions.all()\n"
     ]
    },
    {
     "data": {
      "text/plain": [
       "[<Caption lang=\"Korean (auto-generated)\" code=\"a.ko\">,\n",
       " <Caption lang=\"Korean - ko\" code=\"ko.7XP2tGORuV4\">]"
      ]
     },
     "execution_count": 9,
     "metadata": {},
     "output_type": "execute_result"
    }
   ],
   "source": [
    "yt.captions.all()"
   ]
  },
  {
   "cell_type": "code",
   "execution_count": 20,
   "id": "81902223",
   "metadata": {},
   "outputs": [
    {
     "name": "stderr",
     "output_type": "stream",
     "text": [
      "/var/folders/ls/xl42zdxs2992bdl9ypqdvtn80000gn/T/ipykernel_25751/3952677728.py:1: DeprecationWarning: Call to deprecated function get_by_language_code (This object can be treated as a dictionary, i.e. captions['en']).\n",
      "  caption = yt.captions.get_by_language_code('ko.7XP2tGORuV4')\n"
     ]
    }
   ],
   "source": [
    "caption = yt.captions.get_by_language_code('ko.7XP2tGORuV4')"
   ]
  },
  {
   "cell_type": "code",
   "execution_count": 21,
   "id": "564193c5",
   "metadata": {},
   "outputs": [
    {
     "name": "stderr",
     "output_type": "stream",
     "text": [
      "/var/folders/ls/xl42zdxs2992bdl9ypqdvtn80000gn/T/ipykernel_25751/715879871.py:3: DeprecationWarning: Call to deprecated function get_by_language_code (This object can be treated as a dictionary, i.e. captions['en']).\n",
      "  caption = yt.captions.get_by_language_code('ko.7XP2tGORuV4')\n"
     ]
    }
   ],
   "source": [
    "# 언어로 자막 선택하기\n",
    "## 한글 자막 1순위로 선택하기. 만약 한글 자막이 없다면 자막 리스트 중 첫 번째 자막 선택하기\n",
    "caption = yt.captions.get_by_language_code('ko.7XP2tGORuV4')\n",
    "if caption == None:\n",
    "    caption = yt.captions.all()[0]"
   ]
  },
  {
   "cell_type": "code",
   "execution_count": 22,
   "id": "f3dc6e4d",
   "metadata": {},
   "outputs": [
    {
     "data": {
      "text/plain": [
       "'<?xml version=\"1.0\" encoding=\"utf-8\" ?><timedtext format=\"3\">\\n<body>\\n<p t=\"1\" d=\"228\">G1 뉴스 윤수진입니다.</p>\\n<p t=\"330\" d=\"2269\">-(앵커) 다음은 우크라이나 소식\\n알아보겠습니다.</p>\\n<p t=\"2866\" d=\"5500\">제2차 세계대전 당시 러시아가 독일을\\n물리친 걸 기념하는 날인 전승절을 맞아서</p>\\n<p t=\"9339\" d=\"2135\">우크라이나에 다시 긴장감이 높아지고\\n있습니다.</p>\\n<p t=\"11841\" d=\"1769\">우크라이나 르비우에 나가 있는 저희</p>\\n<p t=\"13943\" d=\"5500\">취재기자 연결해 보겠습니다.\\n장선이 특파원, 러시아군이 다시 위협</p>\\n<p t=\"20917\" d=\"2269\">수위를 높이고 있는데 그곳 르비우\\n분위기는 어떻습니까?</p>\\n<p t=\"24220\" d=\"4171\">-(특파원) 러시아가 승전을 선언하기 위해\\n우크라이나 전역을 무차별로 공습할</p>\\n<p t=\"28658\" d=\"4938\">거라는 경고가 나온 가운데 이곳\\n르비우에도 상당한 긴장감이 감돌고</p>\\n<p t=\"33730\" d=\"600\">있습니다.</p>\\n<p t=\"48077\" d=\"5500\">-(특파원) 전쟁 시작 70일 넘게 지났지만\\n르비우 기차역에는 삶의 터전을 두고</p>\\n<p t=\"53983\" d=\"1568\">떠나온 사람들의 발길이 이어졌습니다.</p>\\n<p t=\"64193\" d=\"1302\">-(특파원) 직접적인 공격을 받아 파괴된</p>\\n<p t=\"65762\" d=\"5500\">지역 외에 루비우 시내는 겉으로는\\n평화로워 보였지만 곳곳에서 러시아</p>\\n<p t=\"71801\" d=\"2336\">미사일 공격에 대비한 모습을 볼 수\\n있습니다.</p>\\n<p t=\"74404\" d=\"2469\">주요 문화유산과 성당 조각상은 철판으로</p>\\n<p t=\"77140\" d=\"4204\">감쌌고 창문에는 모래주머니를 쌓고\\n합판을 덧댔습니다.</p>\\n<p t=\"81611\" d=\"4004\">외곽 도로에는 전차나 장갑차의 진입을\\n막기 위한 장애물이 설치돼 있습니다.</p>\\n<p t=\"86683\" d=\"3370\">-(앵커) 러시아군의 공격을 받아서 돌아갈</p>\\n<p t=\"90320\" d=\"4804\">고향이 아예 사라진 사람들도 꽤 많을\\n텐데 그런 사람들을 위한 공간이 현지에</p>\\n<p t=\"95258\" d=\"934\">마련되고 있다면서요?</p>\\n<p t=\"97694\" d=\"4804\">-(특파원) 전쟁으로 살던 집과 마을이\\n아예 없어져 돌아갈 곳이 없는 사람들도</p>\\n<p t=\"102832\" d=\"3570\">있습니다.\\n특히 러시아의 집중적인 공격을 받은</p>\\n<p t=\"106703\" d=\"3904\">동남부 지역 피란민들이 그런 상황인데요.\\n르비우에 그런 사람들이 이주할 수 있는</p>\\n<p t=\"110873\" d=\"5500\">주택이 며칠 전 문을 열었습니다.\\n르비우 외곽에 들어선 이동식</p>\\n<p t=\"118881\" d=\"3771\">주택단지입니다.\\n320명을 수용할 수 있는 80채의 집이 2주</p>\\n<p t=\"122885\" d=\"4739\">전 들어섰습니다.\\n피란민 캠프나 보호소가 아닌 기간 제한</p>\\n<p t=\"127857\" d=\"4838\">없이 장기간 생활할 수 있는 곳입니다.\\n침실과 공동 식당, 샤워실이 마련돼</p>\\n<p t=\"132996\" d=\"4037\">있는데 이런 시설들이 비교적 피해가 덜한\\n서부 지역을 중심으로 속속 마련되고</p>\\n<p t=\"137367\" d=\"4638\">있습니다.\\n동부 르한스크에서 어머니와 딸과 함께</p>\\n<p t=\"142271\" d=\"2536\">피란 온 옥사나 씨 가족도 이곳에 둥지를\\n틀었습니다.</p>\\n<p t=\"158287\" d=\"1502\">-(특파원) UN 난민기구에 따르면 지난 2월</p>\\n<p t=\"160056\" d=\"5500\">24일 러시아의 침공 이후 우크라이나를\\n탈출한 피란민이 550만 명에 달합니다.</p>\\n<p t=\"166429\" d=\"5500\">-(앵커) 그리고 미국 바이든 대통령\\n부인이 우크라이나에 갔는데 그 소식</p>\\n<p t=\"172235\" d=\"1134\">끝으로 전해 주시죠.</p>\\n<p t=\"174470\" d=\"4738\">-(특파원) 조 바이든 미국 대통령의 부인\\n질 바이든 여사가 우크라이나를 깜짝</p>\\n<p t=\"179609\" d=\"5072\">방문했습니다.\\n서부 국경 마을 우즈호르드를 찾아</p>\\n<p t=\"184981\" d=\"2469\">젤렌스키 우크라이나 대통령 부인 올레나\\n젤렌스카 여사를 만났습니다.</p>\\n<p t=\"203666\" d=\"4204\">-(특파원) 트뤼도 캐나다 총리도 내각\\n인사들과 키이우 인근 소도시 아르핀을</p>\\n<p t=\"208037\" d=\"634\">방문했습니다.</p>\\n<p t=\"208738\" d=\"5500\">이런 가운데 러시아 모스크바 붉은\\n광장에서는 오늘 전승절을 축하되는</p>\\n<p t=\"216145\" d=\"3470\">대규모 열병식이 열렸습니다.\\n푸틴 러시아 대통령은 연설에서 서방이</p>\\n<p t=\"219849\" d=\"3871\">자국 영토를 침공할 준비를 하고 있었기\\n때문에 우크라이나에서의 특수 군사작전이</p>\\n<p t=\"224053\" d=\"4505\">필요했다고 주장했습니다.\\n젤렌스키 우크라이나 대통령은 2차</p>\\n<p t=\"228891\" d=\"5439\">세계대전의 악마가 러시아의 침공으로\\n부활했다며 끝까지 책임을 묻겠다고</p>\\n<p t=\"234697\" d=\"2770\">말했습니다.\\n지금까지 우크라이나 르비우에서 SBS</p>\\n<p t=\"237667\" d=\"1234\">장선이입니다.</p>\\n<p t=\"239602\" d=\"4171\">-(앵커) 필리핀에서 새로운 대통령을 뽑는\\n선거가 시작됐습니다.</p>\\n</body>\\n</timedtext>\\n'"
      ]
     },
     "execution_count": 22,
     "metadata": {},
     "output_type": "execute_result"
    }
   ],
   "source": [
    "# 자막 살펴보기(xml 포맷)\n",
    "caption.xml_captions"
   ]
  },
  {
   "cell_type": "code",
   "execution_count": 23,
   "id": "0740f293",
   "metadata": {},
   "outputs": [
    {
     "data": {
      "text/plain": [
       "<bound method Caption.xml_caption_to_srt of <Caption lang=\"Korean - ko\" code=\"ko.7XP2tGORuV4\">>"
      ]
     },
     "execution_count": 23,
     "metadata": {},
     "output_type": "execute_result"
    }
   ],
   "source": [
    "caption.xml_caption_to_srt"
   ]
  },
  {
   "cell_type": "code",
   "execution_count": 24,
   "id": "22f2aa39",
   "metadata": {},
   "outputs": [
    {
     "name": "stdout",
     "output_type": "stream",
     "text": [
      "1\n",
      "00:00:00,001 --> 00:00:00,229\n",
      "G1 뉴스 윤수진입니다.\n",
      "\n",
      "2\n",
      "00:00:00,330 --> 00:00:02,599\n",
      "-(앵커) 다음은 우크라이나 소식 알아보겠습니다.\n",
      "\n",
      "3\n",
      "00:00:02,866 --> 00:00:08,366\n",
      "제2차 세계대전 당시 러시아가 독일을 물리친 걸 기념하는 날인 전승절을 맞아서\n",
      "\n",
      "4\n",
      "00:00:09,339 --> 00:00:11,474\n",
      "우크라이나에 다시 긴장감이 높아지고 있습니다.\n",
      "\n",
      "5\n",
      "00:00:11,841 --> 00:00:13,610\n",
      "우크라이나 르비우에 나가 있는 저희\n",
      "\n",
      "6\n",
      "00:00:13,943 --> 00:00:19,443\n",
      "취재기자 연결해 보겠습니다. 장선이 특파원, 러시아군이 다시 위협\n",
      "\n",
      "7\n",
      "00:00:20,917 --> 00:00:23,186\n",
      "수위를 높이고 있는데 그곳 르비우 분위기는 어떻습니까?\n",
      "\n",
      "8\n",
      "00:00:24,220 --> 00:00:28,391\n",
      "-(특파원) 러시아가 승전을 선언하기 위해 우크라이나 전역을 무차별로 공습할\n",
      "\n",
      "9\n",
      "00:00:28,658 --> 00:00:33,596\n",
      "거라는 경고가 나온 가운데 이곳 르비우에도 상당한 긴장감이 감돌고\n",
      "\n",
      "10\n",
      "00:00:33,730 --> 00:00:34,330\n",
      "있습니다.\n",
      "\n",
      "11\n",
      "00:00:48,077 --> 00:00:53,577\n",
      "-(특파원) 전쟁 시작 70일 넘게 지났지만 르비우 기차역에는 삶의 터전을 두고\n",
      "\n",
      "12\n",
      "00:00:53,983 --> 00:00:55,551\n",
      "떠나온 사람들의 발길이 이어졌습니다.\n",
      "\n",
      "13\n",
      "00:01:04,193 --> 00:01:05,495\n",
      "-(특파원) 직접적인 공격을 받아 파괴된\n",
      "\n",
      "14\n",
      "00:01:05,762 --> 00:01:11,262\n",
      "지역 외에 루비우 시내는 겉으로는 평화로워 보였지만 곳곳에서 러시아\n",
      "\n",
      "15\n",
      "00:01:11,801 --> 00:01:14,137\n",
      "미사일 공격에 대비한 모습을 볼 수 있습니다.\n",
      "\n",
      "16\n",
      "00:01:14,404 --> 00:01:16,873\n",
      "주요 문화유산과 성당 조각상은 철판으로\n",
      "\n",
      "17\n",
      "00:01:17,140 --> 00:01:21,344\n",
      "감쌌고 창문에는 모래주머니를 쌓고 합판을 덧댔습니다.\n",
      "\n",
      "18\n",
      "00:01:21,611 --> 00:01:25,615\n",
      "외곽 도로에는 전차나 장갑차의 진입을 막기 위한 장애물이 설치돼 있습니다.\n",
      "\n",
      "19\n",
      "00:01:26,683 --> 00:01:30,053\n",
      "-(앵커) 러시아군의 공격을 받아서 돌아갈\n",
      "\n",
      "20\n",
      "00:01:30,320 --> 00:01:35,124\n",
      "고향이 아예 사라진 사람들도 꽤 많을 텐데 그런 사람들을 위한 공간이 현지에\n",
      "\n",
      "21\n",
      "00:01:35,258 --> 00:01:36,192\n",
      "마련되고 있다면서요?\n",
      "\n",
      "22\n",
      "00:01:37,694 --> 00:01:42,498\n",
      "-(특파원) 전쟁으로 살던 집과 마을이 아예 없어져 돌아갈 곳이 없는 사람들도\n",
      "\n",
      "23\n",
      "00:01:42,832 --> 00:01:46,402\n",
      "있습니다. 특히 러시아의 집중적인 공격을 받은\n",
      "\n",
      "24\n",
      "00:01:46,703 --> 00:01:50,607\n",
      "동남부 지역 피란민들이 그런 상황인데요. 르비우에 그런 사람들이 이주할 수 있는\n",
      "\n",
      "25\n",
      "00:01:50,873 --> 00:01:56,373\n",
      "주택이 며칠 전 문을 열었습니다. 르비우 외곽에 들어선 이동식\n",
      "\n",
      "26\n",
      "00:01:58,881 --> 00:02:02,652\n",
      "주택단지입니다. 320명을 수용할 수 있는 80채의 집이 2주\n",
      "\n",
      "27\n",
      "00:02:02,885 --> 00:02:07,624\n",
      "전 들어섰습니다. 피란민 캠프나 보호소가 아닌 기간 제한\n",
      "\n",
      "28\n",
      "00:02:07,857 --> 00:02:12,695\n",
      "없이 장기간 생활할 수 있는 곳입니다. 침실과 공동 식당, 샤워실이 마련돼\n",
      "\n",
      "29\n",
      "00:02:12,996 --> 00:02:17,033\n",
      "있는데 이런 시설들이 비교적 피해가 덜한 서부 지역을 중심으로 속속 마련되고\n",
      "\n",
      "30\n",
      "00:02:17,367 --> 00:02:22,005\n",
      "있습니다. 동부 르한스크에서 어머니와 딸과 함께\n",
      "\n",
      "31\n",
      "00:02:22,271 --> 00:02:24,807\n",
      "피란 온 옥사나 씨 가족도 이곳에 둥지를 틀었습니다.\n",
      "\n",
      "32\n",
      "00:02:38,287 --> 00:02:39,789\n",
      "-(특파원) UN 난민기구에 따르면 지난 2월\n",
      "\n",
      "33\n",
      "00:02:40,056 --> 00:02:45,556\n",
      "24일 러시아의 침공 이후 우크라이나를 탈출한 피란민이 550만 명에 달합니다.\n",
      "\n",
      "34\n",
      "00:02:46,429 --> 00:02:51,929\n",
      "-(앵커) 그리고 미국 바이든 대통령 부인이 우크라이나에 갔는데 그 소식\n",
      "\n",
      "35\n",
      "00:02:52,235 --> 00:02:53,369\n",
      "끝으로 전해 주시죠.\n",
      "\n",
      "36\n",
      "00:02:54,470 --> 00:02:59,208\n",
      "-(특파원) 조 바이든 미국 대통령의 부인 질 바이든 여사가 우크라이나를 깜짝\n",
      "\n",
      "37\n",
      "00:02:59,609 --> 00:03:04,681\n",
      "방문했습니다. 서부 국경 마을 우즈호르드를 찾아\n",
      "\n",
      "38\n",
      "00:03:04,981 --> 00:03:07,450\n",
      "젤렌스키 우크라이나 대통령 부인 올레나 젤렌스카 여사를 만났습니다.\n",
      "\n",
      "39\n",
      "00:03:23,666 --> 00:03:27,870\n",
      "-(특파원) 트뤼도 캐나다 총리도 내각 인사들과 키이우 인근 소도시 아르핀을\n",
      "\n",
      "40\n",
      "00:03:28,037 --> 00:03:28,671\n",
      "방문했습니다.\n",
      "\n",
      "41\n",
      "00:03:28,738 --> 00:03:34,238\n",
      "이런 가운데 러시아 모스크바 붉은 광장에서는 오늘 전승절을 축하되는\n",
      "\n",
      "42\n",
      "00:03:36,145 --> 00:03:39,615\n",
      "대규모 열병식이 열렸습니다. 푸틴 러시아 대통령은 연설에서 서방이\n",
      "\n",
      "43\n",
      "00:03:39,849 --> 00:03:43,720\n",
      "자국 영토를 침공할 준비를 하고 있었기 때문에 우크라이나에서의 특수 군사작전이\n",
      "\n",
      "44\n",
      "00:03:44,053 --> 00:03:48,558\n",
      "필요했다고 주장했습니다. 젤렌스키 우크라이나 대통령은 2차\n",
      "\n",
      "45\n",
      "00:03:48,891 --> 00:03:54,330\n",
      "세계대전의 악마가 러시아의 침공으로 부활했다며 끝까지 책임을 묻겠다고\n",
      "\n",
      "46\n",
      "00:03:54,697 --> 00:03:57,467\n",
      "말했습니다. 지금까지 우크라이나 르비우에서 SBS\n",
      "\n",
      "47\n",
      "00:03:57,667 --> 00:03:58,901\n",
      "장선이입니다.\n",
      "\n",
      "48\n",
      "00:03:59,602 --> 00:04:03,773\n",
      "-(앵커) 필리핀에서 새로운 대통령을 뽑는 선거가 시작됐습니다.\n"
     ]
    }
   ],
   "source": [
    "# 자막 살펴보기(srt 포맷)\n",
    "print(caption.generate_srt_captions())"
   ]
  },
  {
   "cell_type": "code",
   "execution_count": 25,
   "id": "501be69d",
   "metadata": {},
   "outputs": [
    {
     "data": {
      "text/plain": [
       "'/Users/oseunghui/Desktop/데이터분석/최종프로젝트/러시아 전승절 맞아 무차별 공습 경고…긴장감 고조  SBS (ko.7XP2tGORuV4).srt'"
      ]
     },
     "execution_count": 25,
     "metadata": {},
     "output_type": "execute_result"
    }
   ],
   "source": [
    "# 자막 다운받기: download(\"파일명\")\n",
    "caption.download( yt.title )"
   ]
  },
  {
   "cell_type": "code",
   "execution_count": 26,
   "id": "008efa97",
   "metadata": {},
   "outputs": [
    {
     "data": {
      "text/plain": [
       "'<?xml version=\"1.0\" encoding=\"utf-8\" ?><timedtext format=\"3\">\\n<body>\\n<p t=\"1\" d=\"228\">G1 뉴스 윤수진입니다.</p>\\n<p t=\"330\" d=\"2269\">-(앵커) 다음은 우크라이나 소식\\n알아보겠습니다.</p>\\n<p t=\"2866\" d=\"5500\">제2차 세계대전 당시 러시아가 독일을\\n물리친 걸 기념하는 날인 전승절을 맞아서</p>\\n<p t=\"9339\" d=\"2135\">우크라이나에 다시 긴장감이 높아지고\\n있습니다.</p>\\n<p t=\"11841\" d=\"1769\">우크라이나 르비우에 나가 있는 저희</p>\\n<p t=\"13943\" d=\"5500\">취재기자 연결해 보겠습니다.\\n장선이 특파원, 러시아군이 다시 위협</p>\\n<p t=\"20917\" d=\"2269\">수위를 높이고 있는데 그곳 르비우\\n분위기는 어떻습니까?</p>\\n<p t=\"24220\" d=\"4171\">-(특파원) 러시아가 승전을 선언하기 위해\\n우크라이나 전역을 무차별로 공습할</p>\\n<p t=\"28658\" d=\"4938\">거라는 경고가 나온 가운데 이곳\\n르비우에도 상당한 긴장감이 감돌고</p>\\n<p t=\"33730\" d=\"600\">있습니다.</p>\\n<p t=\"48077\" d=\"5500\">-(특파원) 전쟁 시작 70일 넘게 지났지만\\n르비우 기차역에는 삶의 터전을 두고</p>\\n<p t=\"53983\" d=\"1568\">떠나온 사람들의 발길이 이어졌습니다.</p>\\n<p t=\"64193\" d=\"1302\">-(특파원) 직접적인 공격을 받아 파괴된</p>\\n<p t=\"65762\" d=\"5500\">지역 외에 루비우 시내는 겉으로는\\n평화로워 보였지만 곳곳에서 러시아</p>\\n<p t=\"71801\" d=\"2336\">미사일 공격에 대비한 모습을 볼 수\\n있습니다.</p>\\n<p t=\"74404\" d=\"2469\">주요 문화유산과 성당 조각상은 철판으로</p>\\n<p t=\"77140\" d=\"4204\">감쌌고 창문에는 모래주머니를 쌓고\\n합판을 덧댔습니다.</p>\\n<p t=\"81611\" d=\"4004\">외곽 도로에는 전차나 장갑차의 진입을\\n막기 위한 장애물이 설치돼 있습니다.</p>\\n<p t=\"86683\" d=\"3370\">-(앵커) 러시아군의 공격을 받아서 돌아갈</p>\\n<p t=\"90320\" d=\"4804\">고향이 아예 사라진 사람들도 꽤 많을\\n텐데 그런 사람들을 위한 공간이 현지에</p>\\n<p t=\"95258\" d=\"934\">마련되고 있다면서요?</p>\\n<p t=\"97694\" d=\"4804\">-(특파원) 전쟁으로 살던 집과 마을이\\n아예 없어져 돌아갈 곳이 없는 사람들도</p>\\n<p t=\"102832\" d=\"3570\">있습니다.\\n특히 러시아의 집중적인 공격을 받은</p>\\n<p t=\"106703\" d=\"3904\">동남부 지역 피란민들이 그런 상황인데요.\\n르비우에 그런 사람들이 이주할 수 있는</p>\\n<p t=\"110873\" d=\"5500\">주택이 며칠 전 문을 열었습니다.\\n르비우 외곽에 들어선 이동식</p>\\n<p t=\"118881\" d=\"3771\">주택단지입니다.\\n320명을 수용할 수 있는 80채의 집이 2주</p>\\n<p t=\"122885\" d=\"4739\">전 들어섰습니다.\\n피란민 캠프나 보호소가 아닌 기간 제한</p>\\n<p t=\"127857\" d=\"4838\">없이 장기간 생활할 수 있는 곳입니다.\\n침실과 공동 식당, 샤워실이 마련돼</p>\\n<p t=\"132996\" d=\"4037\">있는데 이런 시설들이 비교적 피해가 덜한\\n서부 지역을 중심으로 속속 마련되고</p>\\n<p t=\"137367\" d=\"4638\">있습니다.\\n동부 르한스크에서 어머니와 딸과 함께</p>\\n<p t=\"142271\" d=\"2536\">피란 온 옥사나 씨 가족도 이곳에 둥지를\\n틀었습니다.</p>\\n<p t=\"158287\" d=\"1502\">-(특파원) UN 난민기구에 따르면 지난 2월</p>\\n<p t=\"160056\" d=\"5500\">24일 러시아의 침공 이후 우크라이나를\\n탈출한 피란민이 550만 명에 달합니다.</p>\\n<p t=\"166429\" d=\"5500\">-(앵커) 그리고 미국 바이든 대통령\\n부인이 우크라이나에 갔는데 그 소식</p>\\n<p t=\"172235\" d=\"1134\">끝으로 전해 주시죠.</p>\\n<p t=\"174470\" d=\"4738\">-(특파원) 조 바이든 미국 대통령의 부인\\n질 바이든 여사가 우크라이나를 깜짝</p>\\n<p t=\"179609\" d=\"5072\">방문했습니다.\\n서부 국경 마을 우즈호르드를 찾아</p>\\n<p t=\"184981\" d=\"2469\">젤렌스키 우크라이나 대통령 부인 올레나\\n젤렌스카 여사를 만났습니다.</p>\\n<p t=\"203666\" d=\"4204\">-(특파원) 트뤼도 캐나다 총리도 내각\\n인사들과 키이우 인근 소도시 아르핀을</p>\\n<p t=\"208037\" d=\"634\">방문했습니다.</p>\\n<p t=\"208738\" d=\"5500\">이런 가운데 러시아 모스크바 붉은\\n광장에서는 오늘 전승절을 축하되는</p>\\n<p t=\"216145\" d=\"3470\">대규모 열병식이 열렸습니다.\\n푸틴 러시아 대통령은 연설에서 서방이</p>\\n<p t=\"219849\" d=\"3871\">자국 영토를 침공할 준비를 하고 있었기\\n때문에 우크라이나에서의 특수 군사작전이</p>\\n<p t=\"224053\" d=\"4505\">필요했다고 주장했습니다.\\n젤렌스키 우크라이나 대통령은 2차</p>\\n<p t=\"228891\" d=\"5439\">세계대전의 악마가 러시아의 침공으로\\n부활했다며 끝까지 책임을 묻겠다고</p>\\n<p t=\"234697\" d=\"2770\">말했습니다.\\n지금까지 우크라이나 르비우에서 SBS</p>\\n<p t=\"237667\" d=\"1234\">장선이입니다.</p>\\n<p t=\"239602\" d=\"4171\">-(앵커) 필리핀에서 새로운 대통령을 뽑는\\n선거가 시작됐습니다.</p>\\n</body>\\n</timedtext>\\n'"
      ]
     },
     "execution_count": 26,
     "metadata": {},
     "output_type": "execute_result"
    }
   ],
   "source": [
    "text = caption.xml_captions\n",
    "text"
   ]
  },
  {
   "cell_type": "code",
   "execution_count": 28,
   "id": "0e8ec462",
   "metadata": {},
   "outputs": [],
   "source": [
    "import re"
   ]
  },
  {
   "cell_type": "code",
   "execution_count": 29,
   "id": "347beb7b",
   "metadata": {},
   "outputs": [
    {
     "data": {
      "text/plain": [
       "' G1 뉴스 윤수진입니다. -(앵커) 다음은 우크라이나 소식 알아보겠습니다. 제2차 세계대전 당시 러시아가 독일을 물리친 걸 기념하는 날인 전승절을 맞아서 우크라이나에 다시 긴장감이 높아지고 있습니다. 우크라이나 르비우에 나가 있는 저희 취재기자 연결해 보겠습니다. 장선이 특파원, 러시아군이 다시 위협 수위를 높이고 있는데 그곳 르비우 분위기는 어떻습니까? -(특파원) 러시아가 승전을 선언하기 위해 우크라이나 전역을 무차별로 공습할 거라는 경고가 나온 가운데 이곳 르비우에도 상당한 긴장감이 감돌고 있습니다. -(특파원) 전쟁 시작 70일 넘게 지났지만 르비우 기차역에는 삶의 터전을 두고 떠나온 사람들의 발길이 이어졌습니다. -(특파원) 직접적인 공격을 받아 파괴된 지역 외에 루비우 시내는 겉으로는 평화로워 보였지만 곳곳에서 러시아 미사일 공격에 대비한 모습을 볼 수 있습니다. 주요 문화유산과 성당 조각상은 철판으로 감쌌고 창문에는 모래주머니를 쌓고 합판을 덧댔습니다. 외곽 도로에는 전차나 장갑차의 진입을 막기 위한 장애물이 설치돼 있습니다. -(앵커) 러시아군의 공격을 받아서 돌아갈 고향이 아예 사라진 사람들도 꽤 많을 텐데 그런 사람들을 위한 공간이 현지에 마련되고 있다면서요? -(특파원) 전쟁으로 살던 집과 마을이 아예 없어져 돌아갈 곳이 없는 사람들도 있습니다. 특히 러시아의 집중적인 공격을 받은 동남부 지역 피란민들이 그런 상황인데요. 르비우에 그런 사람들이 이주할 수 있는 주택이 며칠 전 문을 열었습니다. 르비우 외곽에 들어선 이동식 주택단지입니다. 320명을 수용할 수 있는 80채의 집이 2주 전 들어섰습니다. 피란민 캠프나 보호소가 아닌 기간 제한 없이 장기간 생활할 수 있는 곳입니다. 침실과 공동 식당, 샤워실이 마련돼 있는데 이런 시설들이 비교적 피해가 덜한 서부 지역을 중심으로 속속 마련되고 있습니다. 동부 르한스크에서 어머니와 딸과 함께 피란 온 옥사나 씨 가족도 이곳에 둥지를 틀었습니다. -(특파원) UN 난민기구에 따르면 지난 2월 24일 러시아의 침공 이후 우크라이나를 탈출한 피란민이 550만 명에 달합니다. -(앵커) 그리고 미국 바이든 대통령 부인이 우크라이나에 갔는데 그 소식 끝으로 전해 주시죠. -(특파원) 조 바이든 미국 대통령의 부인 질 바이든 여사가 우크라이나를 깜짝 방문했습니다. 서부 국경 마을 우즈호르드를 찾아 젤렌스키 우크라이나 대통령 부인 올레나 젤렌스카 여사를 만났습니다. -(특파원) 트뤼도 캐나다 총리도 내각 인사들과 키이우 인근 소도시 아르핀을 방문했습니다. 이런 가운데 러시아 모스크바 붉은 광장에서는 오늘 전승절을 축하되는 대규모 열병식이 열렸습니다. 푸틴 러시아 대통령은 연설에서 서방이 자국 영토를 침공할 준비를 하고 있었기 때문에 우크라이나에서의 특수 군사작전이 필요했다고 주장했습니다. 젤렌스키 우크라이나 대통령은 2차 세계대전의 악마가 러시아의 침공으로 부활했다며 끝까지 책임을 묻겠다고 말했습니다. 지금까지 우크라이나 르비우에서 SBS 장선이입니다. -(앵커) 필리핀에서 새로운 대통령을 뽑는 선거가 시작됐습니다.  '"
      ]
     },
     "execution_count": 29,
     "metadata": {},
     "output_type": "execute_result"
    }
   ],
   "source": [
    "불용어 = ['<[^가-힣]+>', '&[^가-힣]+;', '(박수 소리)', '\\n', '( )']\n",
    "for i in 불용어:\n",
    "    text = re.sub(i,' ', text)\n",
    "\n",
    "text"
   ]
  },
  {
   "cell_type": "code",
   "execution_count": 30,
   "id": "8bf06433",
   "metadata": {},
   "outputs": [],
   "source": [
    "# 저장\n",
    "import sys\n",
    "\n",
    "f = open('text.txt', 'w')\n",
    "\n",
    "f.write(text)\n",
    "\n",
    "f.close()"
   ]
  },
  {
   "cell_type": "code",
   "execution_count": null,
   "id": "219bf15d",
   "metadata": {},
   "outputs": [],
   "source": []
  },
  {
   "cell_type": "code",
   "execution_count": null,
   "id": "d40cb26c",
   "metadata": {},
   "outputs": [],
   "source": []
  },
  {
   "cell_type": "code",
   "execution_count": null,
   "id": "803f2eac",
   "metadata": {},
   "outputs": [],
   "source": []
  },
  {
   "cell_type": "code",
   "execution_count": null,
   "id": "f681c03e",
   "metadata": {},
   "outputs": [],
   "source": []
  },
  {
   "cell_type": "code",
   "execution_count": null,
   "id": "872e45cd",
   "metadata": {},
   "outputs": [],
   "source": []
  },
  {
   "cell_type": "code",
   "execution_count": null,
   "id": "9bd5562f",
   "metadata": {},
   "outputs": [],
   "source": []
  },
  {
   "cell_type": "code",
   "execution_count": null,
   "id": "4e2dcb1d",
   "metadata": {},
   "outputs": [],
   "source": []
  }
 ],
 "metadata": {
  "kernelspec": {
   "display_name": "Python 3 (ipykernel)",
   "language": "python",
   "name": "python3"
  },
  "language_info": {
   "codemirror_mode": {
    "name": "ipython",
    "version": 3
   },
   "file_extension": ".py",
   "mimetype": "text/x-python",
   "name": "python",
   "nbconvert_exporter": "python",
   "pygments_lexer": "ipython3",
   "version": "3.9.7"
  }
 },
 "nbformat": 4,
 "nbformat_minor": 5
}
